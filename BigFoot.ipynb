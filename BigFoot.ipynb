{
 "cells": [
  {
   "cell_type": "markdown",
   "id": "4f771876-37fa-4892-b525-4733dc777fc4",
   "metadata": {
    "tags": []
   },
   "source": [
    "# **Possible BigFoot Depictions in Indian Culture**\n",
    "\n",
    " This project is inspired by a youtube video made by Trey the Explainer called \"The Native Bigfoot\", in which he talks about books that claim that multiple native american tribes have depictions of the cryptid Bigfoot. In his video, he also provides us with some data he collected and organized in an excel sheet, making it a great subject of research using data analysis and data science.\n",
    "\n",
    " This project aims to create a predictive model using Machine Learning to predict Bigfoot-like depictions based on Trey's data and vague description of what he considers an account of a creature that is Bigfoot-like.\n",
    "\n",
    "Links:\n",
    "* https://www.youtube.com/watch?v=7zJhJsdoTYQ&t=3164s\n",
    "* https://www.youtube.com/watch?v=7zJhJsdoTYQ&t=3164s"
   ]
  },
  {
   "cell_type": "markdown",
   "id": "efb62050-a278-4e0f-8c73-ccab55d32e88",
   "metadata": {
    "tags": []
   },
   "source": [
    " # ***1. Exploratory Data Analysis***\n",
    "\n",
    " In this part of the project the date is read, cleaned, analysed and transformed, so it can have further uses.\n",
    " "
   ]
  },
  {
   "cell_type": "markdown",
   "id": "5daa0107-c879-4f42-bccd-2b4251048010",
   "metadata": {},
   "source": [
    "## Importing libraries"
   ]
  },
  {
   "cell_type": "code",
   "execution_count": 1,
   "id": "da25129c-8e7b-45a7-9ce8-f8aaffc28c74",
   "metadata": {
    "tags": []
   },
   "outputs": [],
   "source": [
    "import pandas as pd\n",
    "import numpy as np\n",
    "import matplotlib.pyplot as plt\n",
    "import seaborn as sns\n",
    "%matplotlib inline\n",
    "\n",
    "import warnings\n",
    "warnings.filterwarnings('ignore')"
   ]
  },
  {
   "cell_type": "markdown",
   "id": "859aa789-8ea2-4cb7-997f-83189959b546",
   "metadata": {},
   "source": [
    "## Importing the CSV File\n",
    "\n",
    "The excel file was downloaded as a .csv as it is a bit easiers to work with"
   ]
  },
  {
   "cell_type": "code",
   "execution_count": 2,
   "id": "332051a4-bd56-442f-8afc-c50f9e355f63",
   "metadata": {
    "tags": []
   },
   "outputs": [],
   "source": [
    "df = pd.read_csv(\"C:\\\\Users\\\\gabri\\\\Desktop\\\\Data Science\\\\Projetos\\\\Bigfoot\\\\Bigfoot Myths, Legends, and Stories spreadsheet by Trey the Explainer.csv\")"
   ]
  },
  {
   "cell_type": "markdown",
   "id": "6cd80d8e-5325-4a2a-8ce7-8b06058201ae",
   "metadata": {
    "tags": []
   },
   "source": [
    "## Checking Data "
   ]
  },
  {
   "cell_type": "code",
   "execution_count": 3,
   "id": "2f85ffbb-ffe3-4d33-9a57-0e2bae8da23c",
   "metadata": {
    "tags": []
   },
   "outputs": [
    {
     "data": {
      "text/plain": [
       "(154, 26)"
      ]
     },
     "execution_count": 3,
     "metadata": {},
     "output_type": "execute_result"
    }
   ],
   "source": [
    "df.shape"
   ]
  },
  {
   "cell_type": "code",
   "execution_count": 4,
   "id": "64e14abf-d194-4a88-974c-8bf2a1f49b32",
   "metadata": {
    "tags": []
   },
   "outputs": [
    {
     "data": {
      "text/html": [
       "<div>\n",
       "<style scoped>\n",
       "    .dataframe tbody tr th:only-of-type {\n",
       "        vertical-align: middle;\n",
       "    }\n",
       "\n",
       "    .dataframe tbody tr th {\n",
       "        vertical-align: top;\n",
       "    }\n",
       "\n",
       "    .dataframe thead th {\n",
       "        text-align: right;\n",
       "    }\n",
       "</style>\n",
       "<table border=\"1\" class=\"dataframe\">\n",
       "  <thead>\n",
       "    <tr style=\"text-align: right;\">\n",
       "      <th></th>\n",
       "      <th>name</th>\n",
       "      <th>culture</th>\n",
       "      <th>description</th>\n",
       "    </tr>\n",
       "  </thead>\n",
       "  <tbody>\n",
       "    <tr>\n",
       "      <th>count</th>\n",
       "      <td>154</td>\n",
       "      <td>153</td>\n",
       "      <td>154</td>\n",
       "    </tr>\n",
       "    <tr>\n",
       "      <th>unique</th>\n",
       "      <td>141</td>\n",
       "      <td>70</td>\n",
       "      <td>154</td>\n",
       "    </tr>\n",
       "    <tr>\n",
       "      <th>top</th>\n",
       "      <td>Cannibals</td>\n",
       "      <td>Comanche</td>\n",
       "      <td>name literally translates to \"little people\", ...</td>\n",
       "    </tr>\n",
       "    <tr>\n",
       "      <th>freq</th>\n",
       "      <td>6</td>\n",
       "      <td>7</td>\n",
       "      <td>1</td>\n",
       "    </tr>\n",
       "  </tbody>\n",
       "</table>\n",
       "</div>"
      ],
      "text/plain": [
       "             name   culture                                        description\n",
       "count         154       153                                                154\n",
       "unique        141        70                                                154\n",
       "top     Cannibals  Comanche  name literally translates to \"little people\", ...\n",
       "freq            6         7                                                  1"
      ]
     },
     "execution_count": 4,
     "metadata": {},
     "output_type": "execute_result"
    }
   ],
   "source": [
    "df.describe(include='O')"
   ]
  },
  {
   "cell_type": "markdown",
   "id": "58cbbc40-982d-4215-9711-9bb796cc67ea",
   "metadata": {},
   "source": [
    "## Changing the Columns' Names\n",
    "\n",
    "Changing the name of each column to shorter and simplified names to make it better to work with."
   ]
  },
  {
   "cell_type": "code",
   "execution_count": 5,
   "id": "911ff0af-267c-48a0-8509-ae29eab920aa",
   "metadata": {},
   "outputs": [],
   "source": [
    "df_columns = ['name', 'culture', 'date', 'description', 'speaks', 'tools', 'fire',\n",
    "       'clothes', 'guns', 'smell', 'shapeshifter', 'interbreeds', 'home',\n",
    "       'bundle', 'weakspot', 'spikes', 'rockgiant', 'sticky', 'bows',\n",
    "       'nondescript', 'kathy', 'suttles', 'expedition', 'christophermurphy',\n",
    "       'monsterquest', 'loren']"
   ]
  },
  {
   "cell_type": "code",
   "execution_count": 6,
   "id": "51a2d7a2-47b6-4dbe-b329-cbd6f59f86e3",
   "metadata": {},
   "outputs": [],
   "source": [
    "df.columns = df_columns"
   ]
  },
  {
   "cell_type": "markdown",
   "id": "d84987af-913d-4876-b3dd-e19c6e0746b0",
   "metadata": {
    "tags": []
   },
   "source": [
    "## Checking Missing Data"
   ]
  },
  {
   "cell_type": "code",
   "execution_count": 7,
   "id": "3bcde271-93ed-40f5-b4e7-88ae9c088795",
   "metadata": {
    "tags": []
   },
   "outputs": [
    {
     "data": {
      "text/plain": [
       "name                  0\n",
       "culture               1\n",
       "date                 29\n",
       "description           0\n",
       "speaks                0\n",
       "tools                 0\n",
       "fire                  0\n",
       "clothes               0\n",
       "guns                  0\n",
       "smell                 0\n",
       "shapeshifter          0\n",
       "interbreeds           0\n",
       "home                  0\n",
       "bundle                0\n",
       "weakspot              0\n",
       "spikes                0\n",
       "rockgiant             0\n",
       "sticky                0\n",
       "bows                  0\n",
       "nondescript           0\n",
       "kathy                 0\n",
       "suttles               0\n",
       "expedition            0\n",
       "christophermurphy     0\n",
       "monsterquest          0\n",
       "loren                 0\n",
       "dtype: int64"
      ]
     },
     "execution_count": 7,
     "metadata": {},
     "output_type": "execute_result"
    }
   ],
   "source": [
    "df.isnull().sum()"
   ]
  },
  {
   "cell_type": "markdown",
   "id": "3fef3f91-7a73-4bef-b3bf-9cb46938ec10",
   "metadata": {
    "tags": []
   },
   "source": [
    "## Changing Missing Values and X's to 0 and 1\n",
    "\n",
    "The original excel sheet had X's and missing values to represente \"yes\" or \"no\", we need to change those values so we can work with them."
   ]
  },
  {
   "cell_type": "code",
   "execution_count": 8,
   "id": "af185719-b265-4740-92c4-69b463ffe123",
   "metadata": {
    "tags": []
   },
   "outputs": [
    {
     "data": {
      "text/plain": [
       "Index(['name', 'culture', 'date', 'description', 'speaks', 'tools', 'fire',\n",
       "       'clothes', 'guns', 'smell', 'shapeshifter', 'interbreeds', 'home',\n",
       "       'bundle', 'weakspot', 'spikes', 'rockgiant', 'sticky', 'bows',\n",
       "       'nondescript', 'kathy', 'suttles', 'expedition', 'christophermurphy',\n",
       "       'monsterquest', 'loren'],\n",
       "      dtype='object')"
      ]
     },
     "execution_count": 8,
     "metadata": {},
     "output_type": "execute_result"
    }
   ],
   "source": [
    "df.columns"
   ]
  },
  {
   "cell_type": "code",
   "execution_count": 9,
   "id": "73911e19-d481-41a3-bc67-03b454a4c163",
   "metadata": {
    "tags": []
   },
   "outputs": [],
   "source": [
    "spcolumns = ['speaks', 'tools', 'fire',\n",
    "       'clothes', 'guns', 'smell', 'shapeshifter', 'interbreeds', 'home',\n",
    "       'bundle', 'weakspot', 'spikes', 'rockgiant', 'sticky', 'bows',\n",
    "       'nondescript', 'kathy', 'suttles', 'expedition', 'christophermurphy',\n",
    "       'monsterquest', 'loren']"
   ]
  },
  {
   "cell_type": "code",
   "execution_count": 10,
   "id": "322422d7-9dfd-4b2d-a378-7fabb9f0c294",
   "metadata": {
    "tags": []
   },
   "outputs": [],
   "source": [
    "for coluna in spcolumns:\n",
    "    df[coluna].fillna('0', inplace=True)"
   ]
  },
  {
   "cell_type": "code",
   "execution_count": 11,
   "id": "93a9dfa4-667b-4d38-a3c4-1623110f9c73",
   "metadata": {
    "tags": []
   },
   "outputs": [],
   "source": [
    "for coluna in spcolumns:\n",
    "    df[coluna].replace('X', '1', inplace=True)"
   ]
  },
  {
   "cell_type": "code",
   "execution_count": 12,
   "id": "104458b1-eaae-4fa3-9a62-b745a3cbebb8",
   "metadata": {
    "tags": []
   },
   "outputs": [
    {
     "data": {
      "text/html": [
       "<div>\n",
       "<style scoped>\n",
       "    .dataframe tbody tr th:only-of-type {\n",
       "        vertical-align: middle;\n",
       "    }\n",
       "\n",
       "    .dataframe tbody tr th {\n",
       "        vertical-align: top;\n",
       "    }\n",
       "\n",
       "    .dataframe thead th {\n",
       "        text-align: right;\n",
       "    }\n",
       "</style>\n",
       "<table border=\"1\" class=\"dataframe\">\n",
       "  <thead>\n",
       "    <tr style=\"text-align: right;\">\n",
       "      <th></th>\n",
       "      <th>name</th>\n",
       "      <th>culture</th>\n",
       "      <th>date</th>\n",
       "      <th>description</th>\n",
       "      <th>speaks</th>\n",
       "      <th>tools</th>\n",
       "      <th>fire</th>\n",
       "      <th>clothes</th>\n",
       "      <th>guns</th>\n",
       "      <th>smell</th>\n",
       "      <th>...</th>\n",
       "      <th>rockgiant</th>\n",
       "      <th>sticky</th>\n",
       "      <th>bows</th>\n",
       "      <th>nondescript</th>\n",
       "      <th>kathy</th>\n",
       "      <th>suttles</th>\n",
       "      <th>expedition</th>\n",
       "      <th>christophermurphy</th>\n",
       "      <th>monsterquest</th>\n",
       "      <th>loren</th>\n",
       "    </tr>\n",
       "  </thead>\n",
       "  <tbody>\n",
       "    <tr>\n",
       "      <th>0</th>\n",
       "      <td>Cannibal Dwarves or jusfihhat</td>\n",
       "      <td>Nunivak</td>\n",
       "      <td>1930.0</td>\n",
       "      <td>name literally translates to \"little people\", ...</td>\n",
       "      <td>1</td>\n",
       "      <td>0</td>\n",
       "      <td>0</td>\n",
       "      <td>0</td>\n",
       "      <td>0</td>\n",
       "      <td>0</td>\n",
       "      <td>...</td>\n",
       "      <td>0</td>\n",
       "      <td>0</td>\n",
       "      <td>0</td>\n",
       "      <td>0</td>\n",
       "      <td>1</td>\n",
       "      <td>0</td>\n",
       "      <td>0</td>\n",
       "      <td>0</td>\n",
       "      <td>0</td>\n",
       "      <td>0</td>\n",
       "    </tr>\n",
       "    <tr>\n",
       "      <th>1</th>\n",
       "      <td>The Strange Creature of the Mountains</td>\n",
       "      <td>Yupik</td>\n",
       "      <td>1981.0</td>\n",
       "      <td>\"stands about a foot off the ground\" (small), ...</td>\n",
       "      <td>0</td>\n",
       "      <td>0</td>\n",
       "      <td>0</td>\n",
       "      <td>0</td>\n",
       "      <td>0</td>\n",
       "      <td>0</td>\n",
       "      <td>...</td>\n",
       "      <td>0</td>\n",
       "      <td>0</td>\n",
       "      <td>0</td>\n",
       "      <td>0</td>\n",
       "      <td>1</td>\n",
       "      <td>0</td>\n",
       "      <td>0</td>\n",
       "      <td>0</td>\n",
       "      <td>0</td>\n",
       "      <td>0</td>\n",
       "    </tr>\n",
       "    <tr>\n",
       "      <th>2</th>\n",
       "      <td>Wappeckquemow</td>\n",
       "      <td>Hoopa</td>\n",
       "      <td>NaN</td>\n",
       "      <td>nondescript giant father</td>\n",
       "      <td>0</td>\n",
       "      <td>0</td>\n",
       "      <td>0</td>\n",
       "      <td>0</td>\n",
       "      <td>0</td>\n",
       "      <td>0</td>\n",
       "      <td>...</td>\n",
       "      <td>0</td>\n",
       "      <td>0</td>\n",
       "      <td>0</td>\n",
       "      <td>1</td>\n",
       "      <td>1</td>\n",
       "      <td>0</td>\n",
       "      <td>0</td>\n",
       "      <td>0</td>\n",
       "      <td>0</td>\n",
       "      <td>0</td>\n",
       "    </tr>\n",
       "    <tr>\n",
       "      <th>3</th>\n",
       "      <td>Ke'-lok</td>\n",
       "      <td>Me-Wuk</td>\n",
       "      <td>1910.0</td>\n",
       "      <td>Powerful Giant, lives in a roundhouse, play ga...</td>\n",
       "      <td>1</td>\n",
       "      <td>1</td>\n",
       "      <td>1</td>\n",
       "      <td>0</td>\n",
       "      <td>0</td>\n",
       "      <td>0</td>\n",
       "      <td>...</td>\n",
       "      <td>0</td>\n",
       "      <td>0</td>\n",
       "      <td>0</td>\n",
       "      <td>0</td>\n",
       "      <td>1</td>\n",
       "      <td>0</td>\n",
       "      <td>0</td>\n",
       "      <td>0</td>\n",
       "      <td>0</td>\n",
       "      <td>0</td>\n",
       "    </tr>\n",
       "    <tr>\n",
       "      <th>4</th>\n",
       "      <td>Oo-wel'-lin</td>\n",
       "      <td>Me-Wuk</td>\n",
       "      <td>1910.0</td>\n",
       "      <td>Rock Giant, as big as a pine tree, cannibal, v...</td>\n",
       "      <td>0</td>\n",
       "      <td>1</td>\n",
       "      <td>0</td>\n",
       "      <td>0</td>\n",
       "      <td>0</td>\n",
       "      <td>0</td>\n",
       "      <td>...</td>\n",
       "      <td>1</td>\n",
       "      <td>0</td>\n",
       "      <td>0</td>\n",
       "      <td>0</td>\n",
       "      <td>1</td>\n",
       "      <td>0</td>\n",
       "      <td>0</td>\n",
       "      <td>0</td>\n",
       "      <td>0</td>\n",
       "      <td>0</td>\n",
       "    </tr>\n",
       "  </tbody>\n",
       "</table>\n",
       "<p>5 rows × 26 columns</p>\n",
       "</div>"
      ],
      "text/plain": [
       "                                     name  culture    date  \\\n",
       "0           Cannibal Dwarves or jusfihhat  Nunivak  1930.0   \n",
       "1  The Strange Creature of the Mountains     Yupik  1981.0   \n",
       "2                           Wappeckquemow    Hoopa     NaN   \n",
       "3                                 Ke'-lok   Me-Wuk  1910.0   \n",
       "4                             Oo-wel'-lin   Me-Wuk  1910.0   \n",
       "\n",
       "                                         description  speaks  tools  fire  \\\n",
       "0  name literally translates to \"little people\", ...       1      0     0   \n",
       "1  \"stands about a foot off the ground\" (small), ...       0      0     0   \n",
       "2                          nondescript giant father        0      0     0   \n",
       "3  Powerful Giant, lives in a roundhouse, play ga...       1      1     1   \n",
       "4  Rock Giant, as big as a pine tree, cannibal, v...       0      1     0   \n",
       "\n",
       "   clothes  guns  smell  ...  rockgiant  sticky  bows  nondescript  kathy  \\\n",
       "0        0     0      0  ...          0       0     0            0      1   \n",
       "1        0     0      0  ...          0       0     0            0      1   \n",
       "2        0     0      0  ...          0       0     0            1      1   \n",
       "3        0     0      0  ...          0       0     0            0      1   \n",
       "4        0     0      0  ...          1       0     0            0      1   \n",
       "\n",
       "   suttles  expedition  christophermurphy  monsterquest  loren  \n",
       "0        0           0                  0             0      0  \n",
       "1        0           0                  0             0      0  \n",
       "2        0           0                  0             0      0  \n",
       "3        0           0                  0             0      0  \n",
       "4        0           0                  0             0      0  \n",
       "\n",
       "[5 rows x 26 columns]"
      ]
     },
     "execution_count": 12,
     "metadata": {},
     "output_type": "execute_result"
    }
   ],
   "source": [
    "df.head()"
   ]
  },
  {
   "cell_type": "markdown",
   "id": "fc4659ba-c5cf-468b-9345-4494cd7a5490",
   "metadata": {},
   "source": [
    "## Feature Engineering\n",
    "\n",
    "In this part, some new features are created using the features we already have in the data, this can grant us a better understanding about the data and can increase the performance of machine learning algorithms."
   ]
  },
  {
   "cell_type": "markdown",
   "id": "dc89ec99-24cc-4140-90f4-8886d1cb407e",
   "metadata": {
    "tags": []
   },
   "source": [
    "### Creating \"bigfootlike\" Column Acording to Trey's Vague Description\n",
    "\n",
    "This new feature is created according to Trey's description of what he considers \"bigfoot-like\" or not. "
   ]
  },
  {
   "cell_type": "code",
   "execution_count": 13,
   "id": "632c0497-5162-4c5d-890d-31674b10d044",
   "metadata": {
    "tags": []
   },
   "outputs": [],
   "source": [
    "bigfootlike = pd.Series([0] * 154)"
   ]
  },
  {
   "cell_type": "code",
   "execution_count": 14,
   "id": "05d91b6d-0a14-414e-bb3a-b16fa79f39db",
   "metadata": {
    "tags": []
   },
   "outputs": [],
   "source": [
    "bigfootlike.iloc[[14, 24, 25, 26, 47, 49, 62, 84, 110, 117, 124, 129, 130, 131, 141, 148, 153]] = 1"
   ]
  },
  {
   "cell_type": "code",
   "execution_count": 15,
   "id": "88696014-dd3a-4f1c-8561-e6634d852580",
   "metadata": {
    "tags": []
   },
   "outputs": [
    {
     "data": {
      "text/html": [
       "<div>\n",
       "<style scoped>\n",
       "    .dataframe tbody tr th:only-of-type {\n",
       "        vertical-align: middle;\n",
       "    }\n",
       "\n",
       "    .dataframe tbody tr th {\n",
       "        vertical-align: top;\n",
       "    }\n",
       "\n",
       "    .dataframe thead th {\n",
       "        text-align: right;\n",
       "    }\n",
       "</style>\n",
       "<table border=\"1\" class=\"dataframe\">\n",
       "  <thead>\n",
       "    <tr style=\"text-align: right;\">\n",
       "      <th></th>\n",
       "      <th>name</th>\n",
       "      <th>culture</th>\n",
       "      <th>date</th>\n",
       "      <th>description</th>\n",
       "      <th>speaks</th>\n",
       "      <th>tools</th>\n",
       "      <th>fire</th>\n",
       "      <th>clothes</th>\n",
       "      <th>guns</th>\n",
       "      <th>smell</th>\n",
       "      <th>...</th>\n",
       "      <th>sticky</th>\n",
       "      <th>bows</th>\n",
       "      <th>nondescript</th>\n",
       "      <th>kathy</th>\n",
       "      <th>suttles</th>\n",
       "      <th>expedition</th>\n",
       "      <th>christophermurphy</th>\n",
       "      <th>monsterquest</th>\n",
       "      <th>loren</th>\n",
       "      <th>bigfootlike</th>\n",
       "    </tr>\n",
       "  </thead>\n",
       "  <tbody>\n",
       "    <tr>\n",
       "      <th>0</th>\n",
       "      <td>Cannibal Dwarves or jusfihhat</td>\n",
       "      <td>Nunivak</td>\n",
       "      <td>1930.0</td>\n",
       "      <td>name literally translates to \"little people\", ...</td>\n",
       "      <td>1</td>\n",
       "      <td>0</td>\n",
       "      <td>0</td>\n",
       "      <td>0</td>\n",
       "      <td>0</td>\n",
       "      <td>0</td>\n",
       "      <td>...</td>\n",
       "      <td>0</td>\n",
       "      <td>0</td>\n",
       "      <td>0</td>\n",
       "      <td>1</td>\n",
       "      <td>0</td>\n",
       "      <td>0</td>\n",
       "      <td>0</td>\n",
       "      <td>0</td>\n",
       "      <td>0</td>\n",
       "      <td>0</td>\n",
       "    </tr>\n",
       "    <tr>\n",
       "      <th>1</th>\n",
       "      <td>The Strange Creature of the Mountains</td>\n",
       "      <td>Yupik</td>\n",
       "      <td>1981.0</td>\n",
       "      <td>\"stands about a foot off the ground\" (small), ...</td>\n",
       "      <td>0</td>\n",
       "      <td>0</td>\n",
       "      <td>0</td>\n",
       "      <td>0</td>\n",
       "      <td>0</td>\n",
       "      <td>0</td>\n",
       "      <td>...</td>\n",
       "      <td>0</td>\n",
       "      <td>0</td>\n",
       "      <td>0</td>\n",
       "      <td>1</td>\n",
       "      <td>0</td>\n",
       "      <td>0</td>\n",
       "      <td>0</td>\n",
       "      <td>0</td>\n",
       "      <td>0</td>\n",
       "      <td>0</td>\n",
       "    </tr>\n",
       "    <tr>\n",
       "      <th>2</th>\n",
       "      <td>Wappeckquemow</td>\n",
       "      <td>Hoopa</td>\n",
       "      <td>NaN</td>\n",
       "      <td>nondescript giant father</td>\n",
       "      <td>0</td>\n",
       "      <td>0</td>\n",
       "      <td>0</td>\n",
       "      <td>0</td>\n",
       "      <td>0</td>\n",
       "      <td>0</td>\n",
       "      <td>...</td>\n",
       "      <td>0</td>\n",
       "      <td>0</td>\n",
       "      <td>1</td>\n",
       "      <td>1</td>\n",
       "      <td>0</td>\n",
       "      <td>0</td>\n",
       "      <td>0</td>\n",
       "      <td>0</td>\n",
       "      <td>0</td>\n",
       "      <td>0</td>\n",
       "    </tr>\n",
       "    <tr>\n",
       "      <th>3</th>\n",
       "      <td>Ke'-lok</td>\n",
       "      <td>Me-Wuk</td>\n",
       "      <td>1910.0</td>\n",
       "      <td>Powerful Giant, lives in a roundhouse, play ga...</td>\n",
       "      <td>1</td>\n",
       "      <td>1</td>\n",
       "      <td>1</td>\n",
       "      <td>0</td>\n",
       "      <td>0</td>\n",
       "      <td>0</td>\n",
       "      <td>...</td>\n",
       "      <td>0</td>\n",
       "      <td>0</td>\n",
       "      <td>0</td>\n",
       "      <td>1</td>\n",
       "      <td>0</td>\n",
       "      <td>0</td>\n",
       "      <td>0</td>\n",
       "      <td>0</td>\n",
       "      <td>0</td>\n",
       "      <td>0</td>\n",
       "    </tr>\n",
       "    <tr>\n",
       "      <th>4</th>\n",
       "      <td>Oo-wel'-lin</td>\n",
       "      <td>Me-Wuk</td>\n",
       "      <td>1910.0</td>\n",
       "      <td>Rock Giant, as big as a pine tree, cannibal, v...</td>\n",
       "      <td>0</td>\n",
       "      <td>1</td>\n",
       "      <td>0</td>\n",
       "      <td>0</td>\n",
       "      <td>0</td>\n",
       "      <td>0</td>\n",
       "      <td>...</td>\n",
       "      <td>0</td>\n",
       "      <td>0</td>\n",
       "      <td>0</td>\n",
       "      <td>1</td>\n",
       "      <td>0</td>\n",
       "      <td>0</td>\n",
       "      <td>0</td>\n",
       "      <td>0</td>\n",
       "      <td>0</td>\n",
       "      <td>0</td>\n",
       "    </tr>\n",
       "  </tbody>\n",
       "</table>\n",
       "<p>5 rows × 27 columns</p>\n",
       "</div>"
      ],
      "text/plain": [
       "                                     name  culture    date  \\\n",
       "0           Cannibal Dwarves or jusfihhat  Nunivak  1930.0   \n",
       "1  The Strange Creature of the Mountains     Yupik  1981.0   \n",
       "2                           Wappeckquemow    Hoopa     NaN   \n",
       "3                                 Ke'-lok   Me-Wuk  1910.0   \n",
       "4                             Oo-wel'-lin   Me-Wuk  1910.0   \n",
       "\n",
       "                                         description  speaks  tools  fire  \\\n",
       "0  name literally translates to \"little people\", ...       1      0     0   \n",
       "1  \"stands about a foot off the ground\" (small), ...       0      0     0   \n",
       "2                          nondescript giant father        0      0     0   \n",
       "3  Powerful Giant, lives in a roundhouse, play ga...       1      1     1   \n",
       "4  Rock Giant, as big as a pine tree, cannibal, v...       0      1     0   \n",
       "\n",
       "   clothes  guns  smell  ...  sticky  bows  nondescript  kathy  suttles  \\\n",
       "0        0     0      0  ...       0     0            0      1        0   \n",
       "1        0     0      0  ...       0     0            0      1        0   \n",
       "2        0     0      0  ...       0     0            1      1        0   \n",
       "3        0     0      0  ...       0     0            0      1        0   \n",
       "4        0     0      0  ...       0     0            0      1        0   \n",
       "\n",
       "   expedition  christophermurphy  monsterquest  loren  bigfootlike  \n",
       "0           0                  0             0      0            0  \n",
       "1           0                  0             0      0            0  \n",
       "2           0                  0             0      0            0  \n",
       "3           0                  0             0      0            0  \n",
       "4           0                  0             0      0            0  \n",
       "\n",
       "[5 rows x 27 columns]"
      ]
     },
     "execution_count": 15,
     "metadata": {},
     "output_type": "execute_result"
    }
   ],
   "source": [
    "df['bigfootlike'] = bigfootlike\n",
    "df.head()"
   ]
  },
  {
   "cell_type": "code",
   "execution_count": 16,
   "id": "e420e0ad-6901-4d95-a55a-c7089fe0b502",
   "metadata": {},
   "outputs": [
    {
     "data": {
      "text/plain": [
       "bigfootlike\n",
       "0    137\n",
       "1     17\n",
       "Name: count, dtype: int64"
      ]
     },
     "execution_count": 16,
     "metadata": {},
     "output_type": "execute_result"
    }
   ],
   "source": [
    "df['bigfootlike'].value_counts()"
   ]
  },
  {
   "cell_type": "markdown",
   "id": "e761b903-6ded-47e7-8964-b30664e228ca",
   "metadata": {},
   "source": [
    "### Creating 'intelligent' column\n",
    "\n",
    "This can help evaluate if there's any correlation between intelligence and the description of bigfoot."
   ]
  },
  {
   "cell_type": "code",
   "execution_count": 17,
   "id": "132ab17b-1adc-4cef-8eda-18a145574a97",
   "metadata": {
    "tags": []
   },
   "outputs": [],
   "source": [
    "df['intelligent'] = 0"
   ]
  },
  {
   "cell_type": "code",
   "execution_count": 18,
   "id": "0528c8fb-40c8-4c9e-8d3b-d431d17de164",
   "metadata": {
    "tags": []
   },
   "outputs": [],
   "source": [
    "def checkintelligence(row):\n",
    "    if row['speaks'] == 1 | row['tools'] == 1 | row['fire'] == 1 | row['clothes'] == 1 | row['guns'] == 1 | row['home'] == 1 | row['bundle'] | row['bows'] == 1:\n",
    "        return 1\n",
    "    else:\n",
    "        return 0"
   ]
  },
  {
   "cell_type": "code",
   "execution_count": 19,
   "id": "7d1e6ac7-35fa-4814-946d-c6ad79a73dd5",
   "metadata": {
    "tags": []
   },
   "outputs": [],
   "source": [
    "df['intelligent'] = df.apply(lambda row: checkintelligence(row), axis=1)"
   ]
  },
  {
   "cell_type": "code",
   "execution_count": 20,
   "id": "31852e20-1e9d-49b1-a6b6-9e218ca1d24d",
   "metadata": {
    "tags": []
   },
   "outputs": [
    {
     "data": {
      "text/plain": [
       "72"
      ]
     },
     "execution_count": 20,
     "metadata": {},
     "output_type": "execute_result"
    }
   ],
   "source": [
    "(df['intelligent'] == 1).sum()"
   ]
  },
  {
   "cell_type": "markdown",
   "id": "c8811c36-d744-4421-9dc1-e23fc86ee04b",
   "metadata": {},
   "source": [
    "### Creating 'hairy' Column\n",
    "\n",
    "Usually bigfoot is described as a hairy creature, so this new feature is created by checking de 'description' column for the word 'hairy'."
   ]
  },
  {
   "cell_type": "code",
   "execution_count": 21,
   "id": "a10dbc93-ceaa-4d07-a42f-b41d81e4db78",
   "metadata": {
    "tags": []
   },
   "outputs": [],
   "source": [
    "df['hairy'] = 0"
   ]
  },
  {
   "cell_type": "code",
   "execution_count": 22,
   "id": "2db404ed-25d5-4611-a039-248b64c45391",
   "metadata": {
    "tags": []
   },
   "outputs": [],
   "source": [
    "def ishairy(description):\n",
    "    if 'hairy' in description.lower():\n",
    "        return 1\n",
    "    else:\n",
    "        return 0"
   ]
  },
  {
   "cell_type": "code",
   "execution_count": 23,
   "id": "84f89ae0-2352-4bee-b413-1f96881bf731",
   "metadata": {
    "tags": []
   },
   "outputs": [],
   "source": [
    "df['hairy'] = df['description'].apply(ishairy)"
   ]
  },
  {
   "cell_type": "code",
   "execution_count": 24,
   "id": "b85bf115-e961-4f4c-99de-44b6fa6a45c8",
   "metadata": {
    "tags": []
   },
   "outputs": [
    {
     "data": {
      "text/plain": [
       "18"
      ]
     },
     "execution_count": 24,
     "metadata": {},
     "output_type": "execute_result"
    }
   ],
   "source": [
    "(df['hairy'] == 1).sum()"
   ]
  },
  {
   "cell_type": "markdown",
   "id": "4719587b-7d37-4ab5-b8c1-ee9c14f18e5f",
   "metadata": {
    "tags": []
   },
   "source": [
    "### Creating 'probablyhuman' Column\n",
    "\n",
    "This new feature is created based on the fact that most descriptions are probably of human beings, so the columns that can describe a human-like behavior or appearance are used to classify if a description is probably of a human or not."
   ]
  },
  {
   "cell_type": "code",
   "execution_count": 25,
   "id": "50d0aa10-e0e9-41e2-aca7-ec75beb0a2ba",
   "metadata": {
    "tags": []
   },
   "outputs": [],
   "source": [
    "df['probablyhuman'] = 0"
   ]
  },
  {
   "cell_type": "code",
   "execution_count": 26,
   "id": "c0f2c2a2-b3e1-43b0-a4e7-e6bd015109b5",
   "metadata": {
    "tags": []
   },
   "outputs": [],
   "source": [
    "def probabhuman(row):\n",
    "    if row['speaks'] == 1 | row['tools'] == 1 | row['fire'] == 1 | row['clothes'] == 1 | row['guns'] == 1 | row['home'] == 1 | row['bundle'] | row['bows'] == 1 and row['hairy'] == 0 and row['rockgiant'] == 0:\n",
    "        return 1\n",
    "    else:\n",
    "        return 0 "
   ]
  },
  {
   "cell_type": "code",
   "execution_count": 27,
   "id": "c7000110-aff6-481a-a5c1-31c75ceef308",
   "metadata": {
    "tags": []
   },
   "outputs": [],
   "source": [
    "df['probablyhuman'] = df.apply(lambda row: probabhuman(row), axis=1)"
   ]
  },
  {
   "cell_type": "code",
   "execution_count": 28,
   "id": "e0c8aa0f-ee6d-4c0f-bcb9-2402b1924abd",
   "metadata": {
    "tags": []
   },
   "outputs": [
    {
     "data": {
      "text/plain": [
       "60"
      ]
     },
     "execution_count": 28,
     "metadata": {},
     "output_type": "execute_result"
    }
   ],
   "source": [
    "(df['probablyhuman'] == 1).sum()"
   ]
  },
  {
   "cell_type": "markdown",
   "id": "af2b3d8f-ff75-4bba-a242-e38ce35bb2d6",
   "metadata": {
    "tags": []
   },
   "source": [
    "## Changing Column Types from int64 to Float64"
   ]
  },
  {
   "cell_type": "code",
   "execution_count": 29,
   "id": "62f38505-fcaa-44c7-a15f-44ff49c6fe98",
   "metadata": {
    "tags": []
   },
   "outputs": [
    {
     "data": {
      "text/plain": [
       "Index(['name', 'culture', 'date', 'description', 'speaks', 'tools', 'fire',\n",
       "       'clothes', 'guns', 'smell', 'shapeshifter', 'interbreeds', 'home',\n",
       "       'bundle', 'weakspot', 'spikes', 'rockgiant', 'sticky', 'bows',\n",
       "       'nondescript', 'kathy', 'suttles', 'expedition', 'christophermurphy',\n",
       "       'monsterquest', 'loren', 'bigfootlike', 'intelligent', 'hairy',\n",
       "       'probablyhuman'],\n",
       "      dtype='object')"
      ]
     },
     "execution_count": 29,
     "metadata": {},
     "output_type": "execute_result"
    }
   ],
   "source": [
    "df.columns"
   ]
  },
  {
   "cell_type": "code",
   "execution_count": 30,
   "id": "71c5ff1b-8982-4f8a-91cf-bc9a26ba447a",
   "metadata": {
    "tags": []
   },
   "outputs": [],
   "source": [
    "spcolumns2 = ['speaks', 'tools', 'fire',\n",
    "       'clothes', 'guns', 'smell', 'shapeshifter', 'interbreeds', 'home',\n",
    "       'bundle', 'weakspot', 'spikes', 'rockgiant', 'sticky', 'bows',\n",
    "       'nondescript', 'kathy', 'suttles', 'expedition', 'christophermurphy',\n",
    "       'monsterquest', 'loren', 'bigfootlike', 'intelligent', 'hairy',\n",
    "       'probablyhuman']"
   ]
  },
  {
   "cell_type": "code",
   "execution_count": 31,
   "id": "85c30890-882e-4fce-b182-3d32ef6542f0",
   "metadata": {
    "tags": []
   },
   "outputs": [],
   "source": [
    "df[spcolumns2] = df[spcolumns2].apply(lambda x: x.astype('float64'))"
   ]
  },
  {
   "cell_type": "code",
   "execution_count": 32,
   "id": "af286954-6875-4633-a6a4-35838590a4da",
   "metadata": {},
   "outputs": [
    {
     "data": {
      "text/plain": [
       "name                  object\n",
       "culture               object\n",
       "date                 float64\n",
       "description           object\n",
       "speaks               float64\n",
       "tools                float64\n",
       "fire                 float64\n",
       "clothes              float64\n",
       "guns                 float64\n",
       "smell                float64\n",
       "shapeshifter         float64\n",
       "interbreeds          float64\n",
       "home                 float64\n",
       "bundle               float64\n",
       "weakspot             float64\n",
       "spikes               float64\n",
       "rockgiant            float64\n",
       "sticky               float64\n",
       "bows                 float64\n",
       "nondescript          float64\n",
       "kathy                float64\n",
       "suttles              float64\n",
       "expedition           float64\n",
       "christophermurphy    float64\n",
       "monsterquest         float64\n",
       "loren                float64\n",
       "bigfootlike          float64\n",
       "intelligent          float64\n",
       "hairy                float64\n",
       "probablyhuman        float64\n",
       "dtype: object"
      ]
     },
     "execution_count": 32,
     "metadata": {},
     "output_type": "execute_result"
    }
   ],
   "source": [
    "df.dtypes"
   ]
  },
  {
   "cell_type": "markdown",
   "id": "00f91c70-2941-46dc-9f7e-f945b6e1a362",
   "metadata": {},
   "source": [
    "# ***2. Data Visualization***"
   ]
  },
  {
   "cell_type": "markdown",
   "id": "506d886c-0388-46be-a9fd-d244441ff699",
   "metadata": {},
   "source": [
    "## Using groupby() and crosstab() to Better Understand the Data\n",
    "With this, we can check the correlation between the descriptions."
   ]
  },
  {
   "cell_type": "code",
   "execution_count": 33,
   "id": "4ea21b01-e508-4752-9b61-27636e6137a3",
   "metadata": {
    "tags": []
   },
   "outputs": [
    {
     "data": {
      "text/plain": [
       "hairy  bigfootlike\n",
       "0.0    0.0            129\n",
       "       1.0              7\n",
       "1.0    1.0             10\n",
       "       0.0              8\n",
       "Name: count, dtype: int64"
      ]
     },
     "execution_count": 33,
     "metadata": {},
     "output_type": "execute_result"
    }
   ],
   "source": [
    "df[['hairy', 'bigfootlike']].groupby(['hairy']).value_counts()"
   ]
  },
  {
   "cell_type": "code",
   "execution_count": 34,
   "id": "bc9905b0-bb85-4996-a361-5dd159ceaa98",
   "metadata": {
    "tags": []
   },
   "outputs": [
    {
     "data": {
      "text/plain": [
       "intelligent  hairy\n",
       "0.0          0.0      72\n",
       "             1.0      10\n",
       "1.0          0.0      64\n",
       "             1.0       8\n",
       "Name: count, dtype: int64"
      ]
     },
     "execution_count": 34,
     "metadata": {},
     "output_type": "execute_result"
    }
   ],
   "source": [
    "df[['hairy', 'intelligent']].groupby(['intelligent']).value_counts()"
   ]
  },
  {
   "cell_type": "code",
   "execution_count": 35,
   "id": "18d3863b-a5cd-48d3-a2fc-4b10751f3432",
   "metadata": {
    "tags": []
   },
   "outputs": [
    {
     "data": {
      "text/html": [
       "<style type=\"text/css\">\n",
       "#T_b26ca_row0_col0, #T_b26ca_row1_col1 {\n",
       "  background-color: #fcffa4;\n",
       "  color: #000000;\n",
       "}\n",
       "#T_b26ca_row0_col1, #T_b26ca_row1_col0, #T_b26ca_row2_col1, #T_b26ca_row3_col1 {\n",
       "  background-color: #000004;\n",
       "  color: #f1f1f1;\n",
       "}\n",
       "#T_b26ca_row2_col0 {\n",
       "  background-color: #120a32;\n",
       "  color: #f1f1f1;\n",
       "}\n",
       "#T_b26ca_row3_col0 {\n",
       "  background-color: #0a0722;\n",
       "  color: #f1f1f1;\n",
       "}\n",
       "</style>\n",
       "<table id=\"T_b26ca\">\n",
       "  <thead>\n",
       "    <tr>\n",
       "      <th class=\"blank\" >&nbsp;</th>\n",
       "      <th class=\"index_name level0\" >probablyhuman</th>\n",
       "      <th id=\"T_b26ca_level0_col0\" class=\"col_heading level0 col0\" >0.000000</th>\n",
       "      <th id=\"T_b26ca_level0_col1\" class=\"col_heading level0 col1\" >1.000000</th>\n",
       "    </tr>\n",
       "    <tr>\n",
       "      <th class=\"index_name level0\" >hairy</th>\n",
       "      <th class=\"index_name level1\" >intelligent</th>\n",
       "      <th class=\"blank col0\" >&nbsp;</th>\n",
       "      <th class=\"blank col1\" >&nbsp;</th>\n",
       "    </tr>\n",
       "  </thead>\n",
       "  <tbody>\n",
       "    <tr>\n",
       "      <th id=\"T_b26ca_level0_row0\" class=\"row_heading level0 row0\" rowspan=\"2\">0.000000</th>\n",
       "      <th id=\"T_b26ca_level1_row0\" class=\"row_heading level1 row0\" >0.000000</th>\n",
       "      <td id=\"T_b26ca_row0_col0\" class=\"data row0 col0\" >72</td>\n",
       "      <td id=\"T_b26ca_row0_col1\" class=\"data row0 col1\" >0</td>\n",
       "    </tr>\n",
       "    <tr>\n",
       "      <th id=\"T_b26ca_level1_row1\" class=\"row_heading level1 row1\" >1.000000</th>\n",
       "      <td id=\"T_b26ca_row1_col0\" class=\"data row1 col0\" >4</td>\n",
       "      <td id=\"T_b26ca_row1_col1\" class=\"data row1 col1\" >60</td>\n",
       "    </tr>\n",
       "    <tr>\n",
       "      <th id=\"T_b26ca_level0_row2\" class=\"row_heading level0 row2\" rowspan=\"2\">1.000000</th>\n",
       "      <th id=\"T_b26ca_level1_row2\" class=\"row_heading level1 row2\" >0.000000</th>\n",
       "      <td id=\"T_b26ca_row2_col0\" class=\"data row2 col0\" >10</td>\n",
       "      <td id=\"T_b26ca_row2_col1\" class=\"data row2 col1\" >0</td>\n",
       "    </tr>\n",
       "    <tr>\n",
       "      <th id=\"T_b26ca_level1_row3\" class=\"row_heading level1 row3\" >1.000000</th>\n",
       "      <td id=\"T_b26ca_row3_col0\" class=\"data row3 col0\" >8</td>\n",
       "      <td id=\"T_b26ca_row3_col1\" class=\"data row3 col1\" >0</td>\n",
       "    </tr>\n",
       "  </tbody>\n",
       "</table>\n"
      ],
      "text/plain": [
       "<pandas.io.formats.style.Styler at 0x1bffba5e710>"
      ]
     },
     "execution_count": 35,
     "metadata": {},
     "output_type": "execute_result"
    }
   ],
   "source": [
    "pd.crosstab(index=[df['hairy'], df['intelligent']], columns=df['probablyhuman']).style.background_gradient(cmap='inferno')"
   ]
  },
  {
   "cell_type": "code",
   "execution_count": 36,
   "id": "f0726dc7-0a95-48b5-a68c-ece90b926e79",
   "metadata": {
    "tags": []
   },
   "outputs": [
    {
     "data": {
      "text/html": [
       "<style type=\"text/css\">\n",
       "#T_7b97a_row0_col0, #T_7b97a_row0_col1 {\n",
       "  background-color: #fcffa4;\n",
       "  color: #000000;\n",
       "}\n",
       "#T_7b97a_row1_col0 {\n",
       "  background-color: #f6fa96;\n",
       "  color: #000000;\n",
       "}\n",
       "#T_7b97a_row1_col1, #T_7b97a_row2_col0, #T_7b97a_row3_col0 {\n",
       "  background-color: #000004;\n",
       "  color: #f1f1f1;\n",
       "}\n",
       "#T_7b97a_row2_col1 {\n",
       "  background-color: #fac228;\n",
       "  color: #000000;\n",
       "}\n",
       "#T_7b97a_row3_col1 {\n",
       "  background-color: #d44842;\n",
       "  color: #f1f1f1;\n",
       "}\n",
       "</style>\n",
       "<table id=\"T_7b97a\">\n",
       "  <thead>\n",
       "    <tr>\n",
       "      <th class=\"blank\" >&nbsp;</th>\n",
       "      <th class=\"index_name level0\" >bigfootlike</th>\n",
       "      <th id=\"T_7b97a_level0_col0\" class=\"col_heading level0 col0\" >0.000000</th>\n",
       "      <th id=\"T_7b97a_level0_col1\" class=\"col_heading level0 col1\" >1.000000</th>\n",
       "    </tr>\n",
       "    <tr>\n",
       "      <th class=\"index_name level0\" >hairy</th>\n",
       "      <th class=\"index_name level1\" >intelligent</th>\n",
       "      <th class=\"blank col0\" >&nbsp;</th>\n",
       "      <th class=\"blank col1\" >&nbsp;</th>\n",
       "    </tr>\n",
       "  </thead>\n",
       "  <tbody>\n",
       "    <tr>\n",
       "      <th id=\"T_7b97a_level0_row0\" class=\"row_heading level0 row0\" rowspan=\"2\">0.000000</th>\n",
       "      <th id=\"T_7b97a_level1_row0\" class=\"row_heading level1 row0\" >0.000000</th>\n",
       "      <td id=\"T_7b97a_row0_col0\" class=\"data row0 col0\" >65</td>\n",
       "      <td id=\"T_7b97a_row0_col1\" class=\"data row0 col1\" >7</td>\n",
       "    </tr>\n",
       "    <tr>\n",
       "      <th id=\"T_7b97a_level1_row1\" class=\"row_heading level1 row1\" >1.000000</th>\n",
       "      <td id=\"T_7b97a_row1_col0\" class=\"data row1 col0\" >64</td>\n",
       "      <td id=\"T_7b97a_row1_col1\" class=\"data row1 col1\" >0</td>\n",
       "    </tr>\n",
       "    <tr>\n",
       "      <th id=\"T_7b97a_level0_row2\" class=\"row_heading level0 row2\" rowspan=\"2\">1.000000</th>\n",
       "      <th id=\"T_7b97a_level1_row2\" class=\"row_heading level1 row2\" >0.000000</th>\n",
       "      <td id=\"T_7b97a_row2_col0\" class=\"data row2 col0\" >4</td>\n",
       "      <td id=\"T_7b97a_row2_col1\" class=\"data row2 col1\" >6</td>\n",
       "    </tr>\n",
       "    <tr>\n",
       "      <th id=\"T_7b97a_level1_row3\" class=\"row_heading level1 row3\" >1.000000</th>\n",
       "      <td id=\"T_7b97a_row3_col0\" class=\"data row3 col0\" >4</td>\n",
       "      <td id=\"T_7b97a_row3_col1\" class=\"data row3 col1\" >4</td>\n",
       "    </tr>\n",
       "  </tbody>\n",
       "</table>\n"
      ],
      "text/plain": [
       "<pandas.io.formats.style.Styler at 0x1bffba5e890>"
      ]
     },
     "execution_count": 36,
     "metadata": {},
     "output_type": "execute_result"
    }
   ],
   "source": [
    "pd.crosstab(index=[df['hairy'], df['intelligent']], columns=df['bigfootlike']).style.background_gradient(cmap='inferno')"
   ]
  },
  {
   "cell_type": "code",
   "execution_count": 37,
   "id": "760c14f1-682a-4506-b58d-ae8e1e350602",
   "metadata": {
    "tags": []
   },
   "outputs": [
    {
     "data": {
      "text/html": [
       "<style type=\"text/css\">\n",
       "#T_cc107_row0_col0, #T_cc107_row0_col1 {\n",
       "  background-color: #fcffa4;\n",
       "  color: #000000;\n",
       "}\n",
       "#T_cc107_row1_col0, #T_cc107_row1_col1 {\n",
       "  background-color: #000004;\n",
       "  color: #f1f1f1;\n",
       "}\n",
       "</style>\n",
       "<table id=\"T_cc107\">\n",
       "  <thead>\n",
       "    <tr>\n",
       "      <th class=\"index_name level0\" >bigfootlike</th>\n",
       "      <th id=\"T_cc107_level0_col0\" class=\"col_heading level0 col0\" >0.000000</th>\n",
       "      <th id=\"T_cc107_level0_col1\" class=\"col_heading level0 col1\" >1.000000</th>\n",
       "    </tr>\n",
       "    <tr>\n",
       "      <th class=\"index_name level0\" >probablyhuman</th>\n",
       "      <th class=\"blank col0\" >&nbsp;</th>\n",
       "      <th class=\"blank col1\" >&nbsp;</th>\n",
       "    </tr>\n",
       "  </thead>\n",
       "  <tbody>\n",
       "    <tr>\n",
       "      <th id=\"T_cc107_level0_row0\" class=\"row_heading level0 row0\" >0.000000</th>\n",
       "      <td id=\"T_cc107_row0_col0\" class=\"data row0 col0\" >77</td>\n",
       "      <td id=\"T_cc107_row0_col1\" class=\"data row0 col1\" >17</td>\n",
       "    </tr>\n",
       "    <tr>\n",
       "      <th id=\"T_cc107_level0_row1\" class=\"row_heading level0 row1\" >1.000000</th>\n",
       "      <td id=\"T_cc107_row1_col0\" class=\"data row1 col0\" >60</td>\n",
       "      <td id=\"T_cc107_row1_col1\" class=\"data row1 col1\" >0</td>\n",
       "    </tr>\n",
       "  </tbody>\n",
       "</table>\n"
      ],
      "text/plain": [
       "<pandas.io.formats.style.Styler at 0x1bffbac67d0>"
      ]
     },
     "execution_count": 37,
     "metadata": {},
     "output_type": "execute_result"
    }
   ],
   "source": [
    "pd.crosstab(df['probablyhuman'], df['bigfootlike']).style.background_gradient(cmap='inferno')"
   ]
  },
  {
   "cell_type": "code",
   "execution_count": 38,
   "id": "e7827df8-c7f5-48f7-933d-5362724af05c",
   "metadata": {
    "tags": []
   },
   "outputs": [
    {
     "data": {
      "text/html": [
       "<style type=\"text/css\">\n",
       "#T_873b3_row0_col0, #T_873b3_row0_col1 {\n",
       "  background-color: #fcffa4;\n",
       "  color: #000000;\n",
       "}\n",
       "#T_873b3_row1_col0, #T_873b3_row1_col1 {\n",
       "  background-color: #000004;\n",
       "  color: #f1f1f1;\n",
       "}\n",
       "</style>\n",
       "<table id=\"T_873b3\">\n",
       "  <thead>\n",
       "    <tr>\n",
       "      <th class=\"index_name level0\" >bigfootlike</th>\n",
       "      <th id=\"T_873b3_level0_col0\" class=\"col_heading level0 col0\" >0.000000</th>\n",
       "      <th id=\"T_873b3_level0_col1\" class=\"col_heading level0 col1\" >1.000000</th>\n",
       "    </tr>\n",
       "    <tr>\n",
       "      <th class=\"index_name level0\" >intelligent</th>\n",
       "      <th class=\"blank col0\" >&nbsp;</th>\n",
       "      <th class=\"blank col1\" >&nbsp;</th>\n",
       "    </tr>\n",
       "  </thead>\n",
       "  <tbody>\n",
       "    <tr>\n",
       "      <th id=\"T_873b3_level0_row0\" class=\"row_heading level0 row0\" >0.000000</th>\n",
       "      <td id=\"T_873b3_row0_col0\" class=\"data row0 col0\" >69</td>\n",
       "      <td id=\"T_873b3_row0_col1\" class=\"data row0 col1\" >13</td>\n",
       "    </tr>\n",
       "    <tr>\n",
       "      <th id=\"T_873b3_level0_row1\" class=\"row_heading level0 row1\" >1.000000</th>\n",
       "      <td id=\"T_873b3_row1_col0\" class=\"data row1 col0\" >68</td>\n",
       "      <td id=\"T_873b3_row1_col1\" class=\"data row1 col1\" >4</td>\n",
       "    </tr>\n",
       "  </tbody>\n",
       "</table>\n"
      ],
      "text/plain": [
       "<pandas.io.formats.style.Styler at 0x1bffbc57990>"
      ]
     },
     "execution_count": 38,
     "metadata": {},
     "output_type": "execute_result"
    }
   ],
   "source": [
    "pd.crosstab(df['intelligent'], df['bigfootlike'])\\\n",
    ".style.background_gradient(cmap='inferno')"
   ]
  },
  {
   "cell_type": "code",
   "execution_count": 39,
   "id": "9f97edb5-f608-4bb6-98f5-962bcbe471c2",
   "metadata": {
    "tags": []
   },
   "outputs": [
    {
     "data": {
      "text/html": [
       "<div>\n",
       "<style scoped>\n",
       "    .dataframe tbody tr th:only-of-type {\n",
       "        vertical-align: middle;\n",
       "    }\n",
       "\n",
       "    .dataframe tbody tr th {\n",
       "        vertical-align: top;\n",
       "    }\n",
       "\n",
       "    .dataframe thead th {\n",
       "        text-align: right;\n",
       "    }\n",
       "</style>\n",
       "<table border=\"1\" class=\"dataframe\">\n",
       "  <thead>\n",
       "    <tr style=\"text-align: right;\">\n",
       "      <th></th>\n",
       "      <th>min_date</th>\n",
       "      <th>max_date</th>\n",
       "    </tr>\n",
       "    <tr>\n",
       "      <th>bigfootlike</th>\n",
       "      <th></th>\n",
       "      <th></th>\n",
       "    </tr>\n",
       "  </thead>\n",
       "  <tbody>\n",
       "    <tr>\n",
       "      <th>0.0</th>\n",
       "      <td>1791.0</td>\n",
       "      <td>2005.0</td>\n",
       "    </tr>\n",
       "    <tr>\n",
       "      <th>1.0</th>\n",
       "      <td>1895.0</td>\n",
       "      <td>2005.0</td>\n",
       "    </tr>\n",
       "  </tbody>\n",
       "</table>\n",
       "</div>"
      ],
      "text/plain": [
       "             min_date  max_date\n",
       "bigfootlike                    \n",
       "0.0            1791.0    2005.0\n",
       "1.0            1895.0    2005.0"
      ]
     },
     "execution_count": 39,
     "metadata": {},
     "output_type": "execute_result"
    }
   ],
   "source": [
    "df.groupby(\"bigfootlike\").date.agg(min_date=\"min\", max_date=\"max\")"
   ]
  },
  {
   "cell_type": "code",
   "execution_count": 40,
   "id": "f7f2fac3-c454-4ec9-9cdd-18cb06b9d889",
   "metadata": {
    "tags": []
   },
   "outputs": [
    {
     "data": {
      "text/html": [
       "<div>\n",
       "<style scoped>\n",
       "    .dataframe tbody tr th:only-of-type {\n",
       "        vertical-align: middle;\n",
       "    }\n",
       "\n",
       "    .dataframe tbody tr th {\n",
       "        vertical-align: top;\n",
       "    }\n",
       "\n",
       "    .dataframe thead th {\n",
       "        text-align: right;\n",
       "    }\n",
       "</style>\n",
       "<table border=\"1\" class=\"dataframe\">\n",
       "  <thead>\n",
       "    <tr style=\"text-align: right;\">\n",
       "      <th>kathy</th>\n",
       "      <th>0.0</th>\n",
       "      <th>1.0</th>\n",
       "    </tr>\n",
       "    <tr>\n",
       "      <th>bigfootlike</th>\n",
       "      <th></th>\n",
       "      <th></th>\n",
       "    </tr>\n",
       "  </thead>\n",
       "  <tbody>\n",
       "    <tr>\n",
       "      <th>0.0</th>\n",
       "      <td>35</td>\n",
       "      <td>102</td>\n",
       "    </tr>\n",
       "    <tr>\n",
       "      <th>1.0</th>\n",
       "      <td>1</td>\n",
       "      <td>16</td>\n",
       "    </tr>\n",
       "  </tbody>\n",
       "</table>\n",
       "</div>"
      ],
      "text/plain": [
       "kathy        0.0  1.0\n",
       "bigfootlike          \n",
       "0.0           35  102\n",
       "1.0            1   16"
      ]
     },
     "execution_count": 40,
     "metadata": {},
     "output_type": "execute_result"
    }
   ],
   "source": [
    "pd.crosstab(df[\"bigfootlike\"], df[\"kathy\"])"
   ]
  },
  {
   "cell_type": "code",
   "execution_count": 41,
   "id": "b67443f2-b3fe-4e88-9255-7e31fda3ee91",
   "metadata": {
    "tags": []
   },
   "outputs": [
    {
     "data": {
      "text/html": [
       "<div>\n",
       "<style scoped>\n",
       "    .dataframe tbody tr th:only-of-type {\n",
       "        vertical-align: middle;\n",
       "    }\n",
       "\n",
       "    .dataframe tbody tr th {\n",
       "        vertical-align: top;\n",
       "    }\n",
       "\n",
       "    .dataframe thead th {\n",
       "        text-align: right;\n",
       "    }\n",
       "</style>\n",
       "<table border=\"1\" class=\"dataframe\">\n",
       "  <thead>\n",
       "    <tr style=\"text-align: right;\">\n",
       "      <th>expedition</th>\n",
       "      <th>0.0</th>\n",
       "      <th>1.0</th>\n",
       "    </tr>\n",
       "    <tr>\n",
       "      <th>bigfootlike</th>\n",
       "      <th></th>\n",
       "      <th></th>\n",
       "    </tr>\n",
       "  </thead>\n",
       "  <tbody>\n",
       "    <tr>\n",
       "      <th>0.0</th>\n",
       "      <td>117</td>\n",
       "      <td>20</td>\n",
       "    </tr>\n",
       "    <tr>\n",
       "      <th>1.0</th>\n",
       "      <td>13</td>\n",
       "      <td>4</td>\n",
       "    </tr>\n",
       "  </tbody>\n",
       "</table>\n",
       "</div>"
      ],
      "text/plain": [
       "expedition   0.0  1.0\n",
       "bigfootlike          \n",
       "0.0          117   20\n",
       "1.0           13    4"
      ]
     },
     "execution_count": 41,
     "metadata": {},
     "output_type": "execute_result"
    }
   ],
   "source": [
    "pd.crosstab(df[\"bigfootlike\"], df[\"expedition\"])"
   ]
  },
  {
   "cell_type": "code",
   "execution_count": 42,
   "id": "0f2c9871-cabf-4c85-8fd9-4568288610a3",
   "metadata": {
    "tags": []
   },
   "outputs": [
    {
     "data": {
      "text/html": [
       "<div>\n",
       "<style scoped>\n",
       "    .dataframe tbody tr th:only-of-type {\n",
       "        vertical-align: middle;\n",
       "    }\n",
       "\n",
       "    .dataframe tbody tr th {\n",
       "        vertical-align: top;\n",
       "    }\n",
       "\n",
       "    .dataframe thead th {\n",
       "        text-align: right;\n",
       "    }\n",
       "</style>\n",
       "<table border=\"1\" class=\"dataframe\">\n",
       "  <thead>\n",
       "    <tr style=\"text-align: right;\">\n",
       "      <th>monsterquest</th>\n",
       "      <th>0.0</th>\n",
       "      <th>1.0</th>\n",
       "    </tr>\n",
       "    <tr>\n",
       "      <th>bigfootlike</th>\n",
       "      <th></th>\n",
       "      <th></th>\n",
       "    </tr>\n",
       "  </thead>\n",
       "  <tbody>\n",
       "    <tr>\n",
       "      <th>0.0</th>\n",
       "      <td>135</td>\n",
       "      <td>2</td>\n",
       "    </tr>\n",
       "    <tr>\n",
       "      <th>1.0</th>\n",
       "      <td>15</td>\n",
       "      <td>2</td>\n",
       "    </tr>\n",
       "  </tbody>\n",
       "</table>\n",
       "</div>"
      ],
      "text/plain": [
       "monsterquest  0.0  1.0\n",
       "bigfootlike           \n",
       "0.0           135    2\n",
       "1.0            15    2"
      ]
     },
     "execution_count": 42,
     "metadata": {},
     "output_type": "execute_result"
    }
   ],
   "source": [
    "pd.crosstab(df[\"bigfootlike\"], df[\"monsterquest\"])"
   ]
  },
  {
   "cell_type": "markdown",
   "id": "3b53a49a-1245-45ef-a469-74f7b20f0d90",
   "metadata": {},
   "source": [
    "## Checking The Correlation Between the Variables"
   ]
  },
  {
   "cell_type": "code",
   "execution_count": 43,
   "id": "ff4c1dec-51b8-44c0-a0e3-c5947a515705",
   "metadata": {
    "tags": []
   },
   "outputs": [
    {
     "data": {
      "text/html": [
       "<div>\n",
       "<style scoped>\n",
       "    .dataframe tbody tr th:only-of-type {\n",
       "        vertical-align: middle;\n",
       "    }\n",
       "\n",
       "    .dataframe tbody tr th {\n",
       "        vertical-align: top;\n",
       "    }\n",
       "\n",
       "    .dataframe thead th {\n",
       "        text-align: right;\n",
       "    }\n",
       "</style>\n",
       "<table border=\"1\" class=\"dataframe\">\n",
       "  <thead>\n",
       "    <tr style=\"text-align: right;\">\n",
       "      <th></th>\n",
       "      <th>speaks</th>\n",
       "      <th>bigfootlike</th>\n",
       "    </tr>\n",
       "  </thead>\n",
       "  <tbody>\n",
       "    <tr>\n",
       "      <th>speaks</th>\n",
       "      <td>1.000000</td>\n",
       "      <td>-0.163963</td>\n",
       "    </tr>\n",
       "    <tr>\n",
       "      <th>bigfootlike</th>\n",
       "      <td>-0.163963</td>\n",
       "      <td>1.000000</td>\n",
       "    </tr>\n",
       "  </tbody>\n",
       "</table>\n",
       "</div>"
      ],
      "text/plain": [
       "               speaks  bigfootlike\n",
       "speaks       1.000000    -0.163963\n",
       "bigfootlike -0.163963     1.000000"
      ]
     },
     "execution_count": 43,
     "metadata": {},
     "output_type": "execute_result"
    }
   ],
   "source": [
    "df[['speaks', 'bigfootlike']].corr()"
   ]
  },
  {
   "cell_type": "code",
   "execution_count": 44,
   "id": "fd0c1e5e-40e6-4fe6-913b-5474823162f6",
   "metadata": {
    "tags": []
   },
   "outputs": [
    {
     "data": {
      "text/html": [
       "<div>\n",
       "<style scoped>\n",
       "    .dataframe tbody tr th:only-of-type {\n",
       "        vertical-align: middle;\n",
       "    }\n",
       "\n",
       "    .dataframe tbody tr th {\n",
       "        vertical-align: top;\n",
       "    }\n",
       "\n",
       "    .dataframe thead th {\n",
       "        text-align: right;\n",
       "    }\n",
       "</style>\n",
       "<table border=\"1\" class=\"dataframe\">\n",
       "  <thead>\n",
       "    <tr style=\"text-align: right;\">\n",
       "      <th></th>\n",
       "      <th>rockgiant</th>\n",
       "      <th>bigfootlike</th>\n",
       "    </tr>\n",
       "  </thead>\n",
       "  <tbody>\n",
       "    <tr>\n",
       "      <th>rockgiant</th>\n",
       "      <td>1.000000</td>\n",
       "      <td>-0.102403</td>\n",
       "    </tr>\n",
       "    <tr>\n",
       "      <th>bigfootlike</th>\n",
       "      <td>-0.102403</td>\n",
       "      <td>1.000000</td>\n",
       "    </tr>\n",
       "  </tbody>\n",
       "</table>\n",
       "</div>"
      ],
      "text/plain": [
       "             rockgiant  bigfootlike\n",
       "rockgiant     1.000000    -0.102403\n",
       "bigfootlike  -0.102403     1.000000"
      ]
     },
     "execution_count": 44,
     "metadata": {},
     "output_type": "execute_result"
    }
   ],
   "source": [
    "df[['rockgiant', 'bigfootlike']].corr()"
   ]
  },
  {
   "cell_type": "code",
   "execution_count": 45,
   "id": "4a4baa5b-cc17-42e3-a666-51251db72c7e",
   "metadata": {
    "tags": []
   },
   "outputs": [
    {
     "data": {
      "text/html": [
       "<div>\n",
       "<style scoped>\n",
       "    .dataframe tbody tr th:only-of-type {\n",
       "        vertical-align: middle;\n",
       "    }\n",
       "\n",
       "    .dataframe tbody tr th {\n",
       "        vertical-align: top;\n",
       "    }\n",
       "\n",
       "    .dataframe thead th {\n",
       "        text-align: right;\n",
       "    }\n",
       "</style>\n",
       "<table border=\"1\" class=\"dataframe\">\n",
       "  <thead>\n",
       "    <tr style=\"text-align: right;\">\n",
       "      <th></th>\n",
       "      <th>hairy</th>\n",
       "      <th>intelligent</th>\n",
       "      <th>bigfootlike</th>\n",
       "      <th>probablyhuman</th>\n",
       "    </tr>\n",
       "  </thead>\n",
       "  <tbody>\n",
       "    <tr>\n",
       "      <th>hairy</th>\n",
       "      <td>1.000000</td>\n",
       "      <td>-0.016835</td>\n",
       "      <td>0.516803</td>\n",
       "      <td>-0.290655</td>\n",
       "    </tr>\n",
       "    <tr>\n",
       "      <th>intelligent</th>\n",
       "      <td>-0.016835</td>\n",
       "      <td>1.000000</td>\n",
       "      <td>-0.163963</td>\n",
       "      <td>0.852614</td>\n",
       "    </tr>\n",
       "    <tr>\n",
       "      <th>bigfootlike</th>\n",
       "      <td>0.516803</td>\n",
       "      <td>-0.163963</td>\n",
       "      <td>1.000000</td>\n",
       "      <td>-0.281434</td>\n",
       "    </tr>\n",
       "    <tr>\n",
       "      <th>probablyhuman</th>\n",
       "      <td>-0.290655</td>\n",
       "      <td>0.852614</td>\n",
       "      <td>-0.281434</td>\n",
       "      <td>1.000000</td>\n",
       "    </tr>\n",
       "  </tbody>\n",
       "</table>\n",
       "</div>"
      ],
      "text/plain": [
       "                  hairy  intelligent  bigfootlike  probablyhuman\n",
       "hairy          1.000000    -0.016835     0.516803      -0.290655\n",
       "intelligent   -0.016835     1.000000    -0.163963       0.852614\n",
       "bigfootlike    0.516803    -0.163963     1.000000      -0.281434\n",
       "probablyhuman -0.290655     0.852614    -0.281434       1.000000"
      ]
     },
     "execution_count": 45,
     "metadata": {},
     "output_type": "execute_result"
    }
   ],
   "source": [
    "df[['hairy', 'intelligent', 'bigfootlike', 'probablyhuman']].corr()"
   ]
  },
  {
   "cell_type": "code",
   "execution_count": 46,
   "id": "6e4aac5e-a15a-4d0e-982c-5017179ca48c",
   "metadata": {},
   "outputs": [
    {
     "data": {
      "text/plain": [
       "<Axes: >"
      ]
     },
     "execution_count": 46,
     "metadata": {},
     "output_type": "execute_result"
    },
    {
     "data": {
      "image/png": "[encoded data removed]",
      "text/plain": [
       "<Figure size 640x480 with 2 Axes>"
      ]
     },
     "metadata": {},
     "output_type": "display_data"
    }
   ],
   "source": [
    "f, ax = plt.subplots(dpi=100)\n",
    "sns.heatmap(df[['speaks', 'guns', 'hairy', 'intelligent', 'bigfootlike', 'probablyhuman', 'tools',\\\n",
    "               'smell', 'rockgiant']].corr(), annot=True, cmap='OrRd')"
   ]
  },
  {
   "cell_type": "markdown",
   "id": "7016d13f-e394-4052-a3be-3badebd5e226",
   "metadata": {},
   "source": [
    "## Using Graphs To Visualize the Data"
   ]
  },
  {
   "cell_type": "code",
   "execution_count": 47,
   "id": "5e5dca16-8cf2-455c-93bb-852efa10bf2f",
   "metadata": {
    "scrolled": true
   },
   "outputs": [
    {
     "data": {
      "image/png": "[encoded data removed]",
      "text/plain": [
       "<Figure size 1050x450 with 1 Axes>"
      ]
     },
     "metadata": {},
     "output_type": "display_data"
    }
   ],
   "source": [
    "plt.figure(figsize=(7, 3), dpi=150)\n",
    "plt.pie(df['bigfootlike'].value_counts(), explode=[0,0.05], autopct='%0.2f%%', colors=sns.color_palette(\"pastel\"))\n",
    "plt.title('Bigfootlike Accounts')\n",
    "plt.ylabel('')\n",
    "plt.show()"
   ]
  },
  {
   "cell_type": "code",
   "execution_count": 48,
   "id": "fa653ead-8584-45d7-9883-911be10ffe35",
   "metadata": {},
   "outputs": [
    {
     "data": {
      "image/png": "[encoded data removed]",
      "text/plain": [
       "<Figure size 1050x450 with 1 Axes>"
      ]
     },
     "metadata": {},
     "output_type": "display_data"
    }
   ],
   "source": [
    "plt.figure(figsize=(7, 3), dpi=150)\n",
    "plt.pie(df['intelligent'].value_counts(), explode=[0,0.05], autopct='%0.2f%%', colors=sns.color_palette(\"pastel\"))\n",
    "plt.title('Intelligent Accounts')\n",
    "plt.ylabel('')\n",
    "plt.show()"
   ]
  },
  {
   "cell_type": "code",
   "execution_count": 49,
   "id": "12fb4353-f980-4c0a-bf7a-db59c44e51b7",
   "metadata": {},
   "outputs": [
    {
     "data": {
      "image/png": "[encoded data removed]",
      "text/plain": [
       "<Figure size 1050x450 with 1 Axes>"
      ]
     },
     "metadata": {},
     "output_type": "display_data"
    }
   ],
   "source": [
    "plt.figure(figsize=(7, 3), dpi=150)\n",
    "plt.pie(df['probablyhuman'].value_counts(), explode=[0,0.05], autopct='%0.2f%%', colors=sns.color_palette(\"pastel\"))\n",
    "plt.title('Probably Human Accounts')\n",
    "plt.ylabel('')\n",
    "plt.show()"
   ]
  },
  {
   "cell_type": "code",
   "execution_count": 50,
   "id": "7768b1a0-e223-4b9c-a124-075ee38e1770",
   "metadata": {
    "tags": []
   },
   "outputs": [
    {
     "data": {
      "image/png": "[encoded data removed]",
      "text/plain": [
       "<Figure size 640x480 with 1 Axes>"
      ]
     },
     "metadata": {},
     "output_type": "display_data"
    }
   ],
   "source": [
    "plt.hist(df['date'], bins=len(df['date'].unique()))\n",
    "plt.title(\"Accounts Per Date\")\n",
    "plt.xlabel(\"Date\")\n",
    "plt.ylabel(\"Accounts\")\n",
    "plt.show()"
   ]
  },
  {
   "cell_type": "code",
   "execution_count": 51,
   "id": "d43b570f-b6ba-4596-b065-0d6df2d3a4a2",
   "metadata": {},
   "outputs": [
    {
     "data": {
      "text/plain": [
       "<Figure size 4500x3000 with 0 Axes>"
      ]
     },
     "metadata": {},
     "output_type": "display_data"
    },
    {
     "data": {
      "image/png": "[encoded data removed]",
      "text/plain": [
       "<Figure size 600x300 with 2 Axes>"
      ]
     },
     "metadata": {},
     "output_type": "display_data"
    }
   ],
   "source": [
    "# checking the dates where the accounts described can be considered as bigfoot-like or not\n",
    "\n",
    "plt.figure(figsize=(9, 6), dpi=500)\n",
    "g = sns.FacetGrid(df, col='bigfootlike')\n",
    "g.map(plt.hist, 'date', bins=30)\n",
    "plt.show()"
   ]
  },
  {
   "cell_type": "code",
   "execution_count": 52,
   "id": "6500c072-5ba8-4c7b-a34e-f22bf40791d2",
   "metadata": {
    "tags": []
   },
   "outputs": [
    {
     "data": {
      "image/png": "[encoded data removed]",
      "text/plain": [
       "<Figure size 700x300 with 1 Axes>"
      ]
     },
     "metadata": {},
     "output_type": "display_data"
    }
   ],
   "source": [
    "# Checking the outliers to have an idea of the period of time that has the most accounts\n",
    "\n",
    "plt.figure(figsize=(7, 3), dpi=100)\n",
    "sns.boxplot(df['date'], palette=\"Blues_d\")\n",
    "plt.show()"
   ]
  },
  {
   "cell_type": "code",
   "execution_count": 53,
   "id": "adbd377d-7990-44cb-8817-9df66187afc7",
   "metadata": {
    "tags": []
   },
   "outputs": [],
   "source": [
    "# Display Top 10 Cultures\n",
    "\n",
    "top10cult = df.culture.value_counts().head(10)"
   ]
  },
  {
   "cell_type": "code",
   "execution_count": 54,
   "id": "e276ecaf-dfb2-4ccf-a598-1abc9edd76ed",
   "metadata": {
    "tags": []
   },
   "outputs": [
    {
     "data": {
      "image/png": "[encoded data removed]",
      "text/plain": [
       "<Figure size 700x400 with 1 Axes>"
      ]
     },
     "metadata": {},
     "output_type": "display_data"
    }
   ],
   "source": [
    "plt.figure(figsize=(7, 4))\n",
    "sns.barplot(x=top10cult.index, y=top10cult.values, palette=\"Blues_d\")\n",
    "plt.xticks(rotation=45, ha='right')\n",
    "plt.title('Top 10 Cultures')\n",
    "plt.xlabel('Cultures')\n",
    "plt.ylabel('Accounts')\n",
    "plt.tight_layout()\n",
    "plt.show()"
   ]
  },
  {
   "cell_type": "code",
   "execution_count": 55,
   "id": "fea315de-25b4-4256-8e9f-a1409ec6712f",
   "metadata": {
    "tags": []
   },
   "outputs": [],
   "source": [
    "bigfootcult = df.loc[df.bigfootlike == 1, 'culture']"
   ]
  },
  {
   "cell_type": "code",
   "execution_count": 56,
   "id": "0d88855e-4597-4852-bdb6-c9a11b48c8df",
   "metadata": {
    "tags": []
   },
   "outputs": [
    {
     "data": {
      "image/png": "[encoded data removed]",
      "text/plain": [
       "<Figure size 640x480 with 1 Axes>"
      ]
     },
     "metadata": {},
     "output_type": "display_data"
    }
   ],
   "source": [
    "# Here we check the cultures that had bigfoot-like descriptions\n",
    "\n",
    "sns.histplot(bigfootcult, bins=14, color='darkcyan')\n",
    "plt.title(\"Bigfoot-like Accounts Per Culture\")\n",
    "plt.xticks(rotation=45, ha='right')\n",
    "plt.xlabel(\"Culture\")\n",
    "plt.ylabel(\"Accounts\")\n",
    "plt.show()"
   ]
  },
  {
   "cell_type": "markdown",
   "id": "1a007518-663b-435f-81a0-5f238c078c41",
   "metadata": {},
   "source": [
    "# ***3. Using Linear Regression to Predict Dates***\n",
    "In this part of the project, we use the variables to see if we can predict the dates based on them."
   ]
  },
  {
   "cell_type": "markdown",
   "id": "fdef6819-b6dd-4217-880b-abc22a703e9a",
   "metadata": {
    "tags": []
   },
   "source": [
    "## Checling Missing Date Values"
   ]
  },
  {
   "cell_type": "code",
   "execution_count": 57,
   "id": "ff3bb78c-1ff8-40d1-99af-1604c805699b",
   "metadata": {},
   "outputs": [
    {
     "data": {
      "text/plain": [
       "29"
      ]
     },
     "execution_count": 57,
     "metadata": {},
     "output_type": "execute_result"
    }
   ],
   "source": [
    "df.date.isnull().sum()"
   ]
  },
  {
   "cell_type": "markdown",
   "id": "18b6ff4b-8899-4a51-900f-a5186fa36441",
   "metadata": {},
   "source": [
    "## Checking Correlation\n",
    "We can see that the variables have almost no correlation with the date."
   ]
  },
  {
   "cell_type": "code",
   "execution_count": 58,
   "id": "7a2c58ff-19aa-425c-b6b0-963e1cb6bc33",
   "metadata": {
    "tags": []
   },
   "outputs": [
    {
     "data": {
      "text/plain": [
       "speaks              -0.131761\n",
       "tools               -0.047331\n",
       "fire                -0.043565\n",
       "clothes             -0.005483\n",
       "guns                 0.058371\n",
       "smell                0.168436\n",
       "shapeshifter         0.012622\n",
       "interbreeds         -0.041705\n",
       "home                -0.185256\n",
       "bundle               0.057269\n",
       "weakspot            -0.153776\n",
       "spikes               0.003484\n",
       "rockgiant           -0.207046\n",
       "sticky               0.124941\n",
       "bows                -0.108551\n",
       "nondescript          0.028211\n",
       "kathy                0.131338\n",
       "suttles             -0.038365\n",
       "expedition           0.128701\n",
       "christophermurphy    0.074504\n",
       "monsterquest        -0.000196\n",
       "loren                0.001983\n",
       "bigfootlike          0.194858\n",
       "intelligent         -0.131761\n",
       "hairy               -0.027471\n",
       "probablyhuman       -0.056791\n",
       "dtype: float64"
      ]
     },
     "execution_count": 58,
     "metadata": {},
     "output_type": "execute_result"
    }
   ],
   "source": [
    "df.iloc[:, 4:30].corrwith(df['date'])"
   ]
  },
  {
   "cell_type": "markdown",
   "id": "f1cd28aa-5d8e-4b73-a3fe-216611b08b85",
   "metadata": {},
   "source": [
    "## Data Preprocessing\n",
    "Here the data is transformed so we can use the linear regression."
   ]
  },
  {
   "cell_type": "markdown",
   "id": "354880e6-4996-412d-93e3-24e4dae3027f",
   "metadata": {
    "tags": []
   },
   "source": [
    "### Importing Libraries"
   ]
  },
  {
   "cell_type": "code",
   "execution_count": 59,
   "id": "63e1da64-810c-42f3-89b1-9424219f1f21",
   "metadata": {
    "tags": []
   },
   "outputs": [],
   "source": [
    "from sklearn.model_selection import train_test_split"
   ]
  },
  {
   "cell_type": "markdown",
   "id": "2a6a3800-d4d0-494a-8e48-f3597823f6b9",
   "metadata": {
    "tags": []
   },
   "source": [
    "### Splitting Data Into Train and Test to Fill Missing Values Later"
   ]
  },
  {
   "cell_type": "code",
   "execution_count": 60,
   "id": "b177e160-c071-4450-9b4b-01c08d2acf1e",
   "metadata": {},
   "outputs": [],
   "source": [
    "dfdate = df.copy()"
   ]
  },
  {
   "cell_type": "code",
   "execution_count": 61,
   "id": "a6c45e95-dd5c-464e-9696-18349c70fea2",
   "metadata": {
    "tags": []
   },
   "outputs": [],
   "source": [
    "# Choosing variables that'll be used \n",
    "\n",
    "dfdate = dfdate[['bigfootlike', 'expedition', 'suttles', 'kathy', 'sticky', 'smell','guns', 'date']]"
   ]
  },
  {
   "cell_type": "code",
   "execution_count": 62,
   "id": "d41f2b13-4ae6-4884-8cc4-0b9208973396",
   "metadata": {},
   "outputs": [],
   "source": [
    "train_date = dfdate.dropna()\n",
    "test_date = dfdate.loc[dfdate.date.isnull()].drop('date', axis=1)"
   ]
  },
  {
   "cell_type": "code",
   "execution_count": 63,
   "id": "32e9b3b4-56f1-4ce5-a536-79a50c99ccc5",
   "metadata": {},
   "outputs": [
    {
     "data": {
      "text/plain": [
       "((125, 8), (29, 7))"
      ]
     },
     "execution_count": 63,
     "metadata": {},
     "output_type": "execute_result"
    }
   ],
   "source": [
    "train_date.shape, test_date.shape"
   ]
  },
  {
   "cell_type": "markdown",
   "id": "0e163104-6385-40a7-9256-481789c45237",
   "metadata": {},
   "source": [
    "### Defining X and y to Train the Model"
   ]
  },
  {
   "cell_type": "code",
   "execution_count": 64,
   "id": "aa97be88-0dde-4e6b-bf7e-1bda522d1e3d",
   "metadata": {},
   "outputs": [],
   "source": [
    "X = train_date.drop('date', axis=1)\n",
    "y = train_date['date']"
   ]
  },
  {
   "cell_type": "code",
   "execution_count": 65,
   "id": "a2107f6f-ca17-4436-ba12-ad8815fca249",
   "metadata": {},
   "outputs": [
    {
     "data": {
      "text/plain": [
       "((125, 7), (125,))"
      ]
     },
     "execution_count": 65,
     "metadata": {},
     "output_type": "execute_result"
    }
   ],
   "source": [
    "X.shape, y.shape"
   ]
  },
  {
   "cell_type": "markdown",
   "id": "1ddafc91-0ff5-422d-aed9-25ba3ea20229",
   "metadata": {
    "tags": []
   },
   "source": [
    "### Splitting the Data Into 80% and 20%"
   ]
  },
  {
   "cell_type": "code",
   "execution_count": 66,
   "id": "8167f5e5-fd19-4a78-a52c-c5e0dd6f0780",
   "metadata": {
    "tags": []
   },
   "outputs": [],
   "source": [
    "X_train, X_test, y_train, y_test = train_test_split(X, y, test_size=0.20, random_state=111)"
   ]
  },
  {
   "cell_type": "code",
   "execution_count": 67,
   "id": "444cdee7-c471-4425-a781-aa20888f78cb",
   "metadata": {
    "tags": []
   },
   "outputs": [
    {
     "data": {
      "text/plain": [
       "((100, 7), (25, 7), (100,), (25,))"
      ]
     },
     "execution_count": 67,
     "metadata": {},
     "output_type": "execute_result"
    }
   ],
   "source": [
    "X_train.shape, X_test.shape, y_train.shape, y_test.shape"
   ]
  },
  {
   "cell_type": "markdown",
   "id": "84d1f273-34f9-4d95-bb2f-2a92bb8a4ffd",
   "metadata": {
    "tags": []
   },
   "source": [
    "## Training the Model"
   ]
  },
  {
   "cell_type": "code",
   "execution_count": 68,
   "id": "19d196d4-5697-4dba-8379-2fa69aabe822",
   "metadata": {},
   "outputs": [],
   "source": [
    "from sklearn import linear_model"
   ]
  },
  {
   "cell_type": "code",
   "execution_count": 69,
   "id": "0e5e23fc-f1cd-47d7-a703-f16969a1ccb9",
   "metadata": {},
   "outputs": [],
   "source": [
    "lm = linear_model.LinearRegression()"
   ]
  },
  {
   "cell_type": "code",
   "execution_count": 70,
   "id": "e8756955-44a9-4033-ac22-948fd8fe9108",
   "metadata": {},
   "outputs": [
    {
     "data": {
      "text/html": [
       "<style>#sk-container-id-1 {color: black;background-color: white;}#sk-container-id-1 pre{padding: 0;}#sk-container-id-1 div.sk-toggleable {background-color: white;}#sk-container-id-1 label.sk-toggleable__label {cursor: pointer;display: block;width: 100%;margin-bottom: 0;padding: 0.3em;box-sizing: border-box;text-align: center;}#sk-container-id-1 label.sk-toggleable__label-arrow:before {content: \"▸\";float: left;margin-right: 0.25em;color: #696969;}#sk-container-id-1 label.sk-toggleable__label-arrow:hover:before {color: black;}#sk-container-id-1 div.sk-estimator:hover label.sk-toggleable__label-arrow:before {color: black;}#sk-container-id-1 div.sk-toggleable__content {max-height: 0;max-width: 0;overflow: hidden;text-align: left;background-color: #f0f8ff;}#sk-container-id-1 div.sk-toggleable__content pre {margin: 0.2em;color: black;border-radius: 0.25em;background-color: #f0f8ff;}#sk-container-id-1 input.sk-toggleable__control:checked~div.sk-toggleable__content {max-height: 200px;max-width: 100%;overflow: auto;}#sk-container-id-1 input.sk-toggleable__control:checked~label.sk-toggleable__label-arrow:before {content: \"▾\";}#sk-container-id-1 div.sk-estimator input.sk-toggleable__control:checked~label.sk-toggleable__label {background-color: #d4ebff;}#sk-container-id-1 div.sk-label input.sk-toggleable__control:checked~label.sk-toggleable__label {background-color: #d4ebff;}#sk-container-id-1 input.sk-hidden--visually {border: 0;clip: rect(1px 1px 1px 1px);clip: rect(1px, 1px, 1px, 1px);height: 1px;margin: -1px;overflow: hidden;padding: 0;position: absolute;width: 1px;}#sk-container-id-1 div.sk-estimator {font-family: monospace;background-color: #f0f8ff;border: 1px dotted black;border-radius: 0.25em;box-sizing: border-box;margin-bottom: 0.5em;}#sk-container-id-1 div.sk-estimator:hover {background-color: #d4ebff;}#sk-container-id-1 div.sk-parallel-item::after {content: \"\";width: 100%;border-bottom: 1px solid gray;flex-grow: 1;}#sk-container-id-1 div.sk-label:hover label.sk-toggleable__label {background-color: #d4ebff;}#sk-container-id-1 div.sk-serial::before {content: \"\";position: absolute;border-left: 1px solid gray;box-sizing: border-box;top: 0;bottom: 0;left: 50%;z-index: 0;}#sk-container-id-1 div.sk-serial {display: flex;flex-direction: column;align-items: center;background-color: white;padding-right: 0.2em;padding-left: 0.2em;position: relative;}#sk-container-id-1 div.sk-item {position: relative;z-index: 1;}#sk-container-id-1 div.sk-parallel {display: flex;align-items: stretch;justify-content: center;background-color: white;position: relative;}#sk-container-id-1 div.sk-item::before, #sk-container-id-1 div.sk-parallel-item::before {content: \"\";position: absolute;border-left: 1px solid gray;box-sizing: border-box;top: 0;bottom: 0;left: 50%;z-index: -1;}#sk-container-id-1 div.sk-parallel-item {display: flex;flex-direction: column;z-index: 1;position: relative;background-color: white;}#sk-container-id-1 div.sk-parallel-item:first-child::after {align-self: flex-end;width: 50%;}#sk-container-id-1 div.sk-parallel-item:last-child::after {align-self: flex-start;width: 50%;}#sk-container-id-1 div.sk-parallel-item:only-child::after {width: 0;}#sk-container-id-1 div.sk-dashed-wrapped {border: 1px dashed gray;margin: 0 0.4em 0.5em 0.4em;box-sizing: border-box;padding-bottom: 0.4em;background-color: white;}#sk-container-id-1 div.sk-label label {font-family: monospace;font-weight: bold;display: inline-block;line-height: 1.2em;}#sk-container-id-1 div.sk-label-container {text-align: center;}#sk-container-id-1 div.sk-container {/* jupyter's `normalize.less` sets `[hidden] { display: none; }` but bootstrap.min.css set `[hidden] { display: none !important; }` so we also need the `!important` here to be able to override the default hidden behavior on the sphinx rendered scikit-learn.org. See: https://github.com/scikit-learn/scikit-learn/issues/21755 */display: inline-block !important;position: relative;}#sk-container-id-1 div.sk-text-repr-fallback {display: none;}</style><div id=\"sk-container-id-1\" class=\"sk-top-container\"><div class=\"sk-text-repr-fallback\"><pre>LinearRegression()</pre><b>In a Jupyter environment, please rerun this cell to show the HTML representation or trust the notebook. <br />On GitHub, the HTML representation is unable to render, please try loading this page with nbviewer.org.</b></div><div class=\"sk-container\" hidden><div class=\"sk-item\"><div class=\"sk-estimator sk-toggleable\"><input class=\"sk-toggleable__control sk-hidden--visually\" id=\"sk-estimator-id-1\" type=\"checkbox\" checked><label for=\"sk-estimator-id-1\" class=\"sk-toggleable__label sk-toggleable__label-arrow\">LinearRegression</label><div class=\"sk-toggleable__content\"><pre>LinearRegression()</pre></div></div></div></div></div>"
      ],
      "text/plain": [
       "LinearRegression()"
      ]
     },
     "execution_count": 70,
     "metadata": {},
     "output_type": "execute_result"
    }
   ],
   "source": [
    "lm.fit(X_train, y_train)"
   ]
  },
  {
   "cell_type": "code",
   "execution_count": 71,
   "id": "790e5e12-91ab-4a52-9c0e-8f8a26eb09cd",
   "metadata": {},
   "outputs": [
    {
     "data": {
      "text/plain": [
       "(25,)"
      ]
     },
     "execution_count": 71,
     "metadata": {},
     "output_type": "execute_result"
    }
   ],
   "source": [
    "pred = lm.predict(X_test)\n",
    "pred.shape"
   ]
  },
  {
   "cell_type": "code",
   "execution_count": 72,
   "id": "7a2f5341-ed90-4639-b69e-9664821b8d34",
   "metadata": {},
   "outputs": [
    {
     "data": {
      "text/plain": [
       "-0.12065276659803326"
      ]
     },
     "execution_count": 72,
     "metadata": {},
     "output_type": "execute_result"
    }
   ],
   "source": [
    "# The model's score is negative, indicating that the prediction is not accurate\n",
    "\n",
    "lm.score(X_test, y_test)"
   ]
  },
  {
   "cell_type": "markdown",
   "id": "8d777a74-d123-4c0b-b4c2-0472bb63dbde",
   "metadata": {
    "tags": []
   },
   "source": [
    "## Checking the RMSE\n",
    "A metric used to determine the accuracy of the model"
   ]
  },
  {
   "cell_type": "code",
   "execution_count": 73,
   "id": "7ad25eff-b74a-4737-aae0-52771227dfec",
   "metadata": {},
   "outputs": [],
   "source": [
    "from sklearn.metrics import mean_squared_error"
   ]
  },
  {
   "cell_type": "markdown",
   "id": "b5f3c165-09e9-4473-a91c-f0f82ca91377",
   "metadata": {
    "tags": []
   },
   "source": [
    "### Checking With Predictions"
   ]
  },
  {
   "cell_type": "code",
   "execution_count": 74,
   "id": "fb164a1d-7e23-45ba-9e52-14e2983080a3",
   "metadata": {},
   "outputs": [],
   "source": [
    "mse = mean_squared_error(y_test, pred)"
   ]
  },
  {
   "cell_type": "code",
   "execution_count": 75,
   "id": "a7b4ef76-069d-4a68-9c00-cf2dc9130bac",
   "metadata": {},
   "outputs": [
    {
     "data": {
      "text/plain": [
       "48.34030563525865"
      ]
     },
     "execution_count": 75,
     "metadata": {},
     "output_type": "execute_result"
    }
   ],
   "source": [
    "rmse = np.sqrt(mse)\n",
    "rmse"
   ]
  },
  {
   "cell_type": "markdown",
   "id": "a8577162-495a-4d19-9069-3c8d2a3f863f",
   "metadata": {
    "tags": []
   },
   "source": [
    "### Checking if the Mean is More Accurate\n",
    "The accuracy is terrible, so we check if just replacing the missing dates with the mean of the dates is more accurate or not"
   ]
  },
  {
   "cell_type": "code",
   "execution_count": 76,
   "id": "2bce134b-8c24-4de1-ad44-e4391b844ddd",
   "metadata": {},
   "outputs": [],
   "source": [
    "mse = mean_squared_error(y, np.repeat(y.mean(), len(y)))"
   ]
  },
  {
   "cell_type": "code",
   "execution_count": 77,
   "id": "7c36afbf-8834-4be1-a21e-6c3208ea7c90",
   "metadata": {},
   "outputs": [
    {
     "name": "stdout",
     "output_type": "stream",
     "text": [
      "Replacing missing values with mean is more accurate\n"
     ]
    }
   ],
   "source": [
    "rmsemean = np.sqrt(mse)\n",
    "if rmsemean < rmse:\n",
    "    print('Replacing missing values with mean is more accurate')\n",
    "else:\n",
    "    print('Predictions are more accurate')"
   ]
  },
  {
   "cell_type": "markdown",
   "id": "5f22e866-9834-4f84-9f56-aee8960d82aa",
   "metadata": {},
   "source": [
    "### Visualizing Residues"
   ]
  },
  {
   "cell_type": "code",
   "execution_count": 78,
   "id": "3ca2ecb4-accc-4561-afde-b2185075e0a2",
   "metadata": {},
   "outputs": [
    {
     "data": {
      "image/png": "[encoded data removed]",
      "text/plain": [
       "<Figure size 640x480 with 1 Axes>"
      ]
     },
     "metadata": {},
     "output_type": "display_data"
    }
   ],
   "source": [
    "plt.scatter(y_test, pred)\n",
    "plt.show()"
   ]
  },
  {
   "cell_type": "markdown",
   "id": "0dd524d6-0009-414a-80b3-66945ff88b21",
   "metadata": {},
   "source": [
    "## Feature Importance\n",
    "\n",
    "now we check what features were more important in the prediction"
   ]
  },
  {
   "cell_type": "code",
   "execution_count": 79,
   "id": "a0c3e6e0-f8da-4048-bf0b-c9781ac8ea9c",
   "metadata": {
    "tags": []
   },
   "outputs": [],
   "source": [
    "from sklearn.feature_selection import RFECV"
   ]
  },
  {
   "cell_type": "code",
   "execution_count": 80,
   "id": "c2021cf2-dd8d-45a1-9e04-3805cf2b4801",
   "metadata": {},
   "outputs": [],
   "source": [
    "selector = RFECV(estimator=lm, step=1, cv=5)"
   ]
  },
  {
   "cell_type": "code",
   "execution_count": 81,
   "id": "c17c6642-261e-4eb7-941b-027967ebe8f7",
   "metadata": {
    "tags": []
   },
   "outputs": [
    {
     "data": {
      "text/html": [
       "<style>#sk-container-id-2 {color: black;background-color: white;}#sk-container-id-2 pre{padding: 0;}#sk-container-id-2 div.sk-toggleable {background-color: white;}#sk-container-id-2 label.sk-toggleable__label {cursor: pointer;display: block;width: 100%;margin-bottom: 0;padding: 0.3em;box-sizing: border-box;text-align: center;}#sk-container-id-2 label.sk-toggleable__label-arrow:before {content: \"▸\";float: left;margin-right: 0.25em;color: #696969;}#sk-container-id-2 label.sk-toggleable__label-arrow:hover:before {color: black;}#sk-container-id-2 div.sk-estimator:hover label.sk-toggleable__label-arrow:before {color: black;}#sk-container-id-2 div.sk-toggleable__content {max-height: 0;max-width: 0;overflow: hidden;text-align: left;background-color: #f0f8ff;}#sk-container-id-2 div.sk-toggleable__content pre {margin: 0.2em;color: black;border-radius: 0.25em;background-color: #f0f8ff;}#sk-container-id-2 input.sk-toggleable__control:checked~div.sk-toggleable__content {max-height: 200px;max-width: 100%;overflow: auto;}#sk-container-id-2 input.sk-toggleable__control:checked~label.sk-toggleable__label-arrow:before {content: \"▾\";}#sk-container-id-2 div.sk-estimator input.sk-toggleable__control:checked~label.sk-toggleable__label {background-color: #d4ebff;}#sk-container-id-2 div.sk-label input.sk-toggleable__control:checked~label.sk-toggleable__label {background-color: #d4ebff;}#sk-container-id-2 input.sk-hidden--visually {border: 0;clip: rect(1px 1px 1px 1px);clip: rect(1px, 1px, 1px, 1px);height: 1px;margin: -1px;overflow: hidden;padding: 0;position: absolute;width: 1px;}#sk-container-id-2 div.sk-estimator {font-family: monospace;background-color: #f0f8ff;border: 1px dotted black;border-radius: 0.25em;box-sizing: border-box;margin-bottom: 0.5em;}#sk-container-id-2 div.sk-estimator:hover {background-color: #d4ebff;}#sk-container-id-2 div.sk-parallel-item::after {content: \"\";width: 100%;border-bottom: 1px solid gray;flex-grow: 1;}#sk-container-id-2 div.sk-label:hover label.sk-toggleable__label {background-color: #d4ebff;}#sk-container-id-2 div.sk-serial::before {content: \"\";position: absolute;border-left: 1px solid gray;box-sizing: border-box;top: 0;bottom: 0;left: 50%;z-index: 0;}#sk-container-id-2 div.sk-serial {display: flex;flex-direction: column;align-items: center;background-color: white;padding-right: 0.2em;padding-left: 0.2em;position: relative;}#sk-container-id-2 div.sk-item {position: relative;z-index: 1;}#sk-container-id-2 div.sk-parallel {display: flex;align-items: stretch;justify-content: center;background-color: white;position: relative;}#sk-container-id-2 div.sk-item::before, #sk-container-id-2 div.sk-parallel-item::before {content: \"\";position: absolute;border-left: 1px solid gray;box-sizing: border-box;top: 0;bottom: 0;left: 50%;z-index: -1;}#sk-container-id-2 div.sk-parallel-item {display: flex;flex-direction: column;z-index: 1;position: relative;background-color: white;}#sk-container-id-2 div.sk-parallel-item:first-child::after {align-self: flex-end;width: 50%;}#sk-container-id-2 div.sk-parallel-item:last-child::after {align-self: flex-start;width: 50%;}#sk-container-id-2 div.sk-parallel-item:only-child::after {width: 0;}#sk-container-id-2 div.sk-dashed-wrapped {border: 1px dashed gray;margin: 0 0.4em 0.5em 0.4em;box-sizing: border-box;padding-bottom: 0.4em;background-color: white;}#sk-container-id-2 div.sk-label label {font-family: monospace;font-weight: bold;display: inline-block;line-height: 1.2em;}#sk-container-id-2 div.sk-label-container {text-align: center;}#sk-container-id-2 div.sk-container {/* jupyter's `normalize.less` sets `[hidden] { display: none; }` but bootstrap.min.css set `[hidden] { display: none !important; }` so we also need the `!important` here to be able to override the default hidden behavior on the sphinx rendered scikit-learn.org. See: https://github.com/scikit-learn/scikit-learn/issues/21755 */display: inline-block !important;position: relative;}#sk-container-id-2 div.sk-text-repr-fallback {display: none;}</style><div id=\"sk-container-id-2\" class=\"sk-top-container\"><div class=\"sk-text-repr-fallback\"><pre>RFECV(cv=5, estimator=LinearRegression())</pre><b>In a Jupyter environment, please rerun this cell to show the HTML representation or trust the notebook. <br />On GitHub, the HTML representation is unable to render, please try loading this page with nbviewer.org.</b></div><div class=\"sk-container\" hidden><div class=\"sk-item sk-dashed-wrapped\"><div class=\"sk-label-container\"><div class=\"sk-label sk-toggleable\"><input class=\"sk-toggleable__control sk-hidden--visually\" id=\"sk-estimator-id-2\" type=\"checkbox\" ><label for=\"sk-estimator-id-2\" class=\"sk-toggleable__label sk-toggleable__label-arrow\">RFECV</label><div class=\"sk-toggleable__content\"><pre>RFECV(cv=5, estimator=LinearRegression())</pre></div></div></div><div class=\"sk-parallel\"><div class=\"sk-parallel-item\"><div class=\"sk-item\"><div class=\"sk-label-container\"><div class=\"sk-label sk-toggleable\"><input class=\"sk-toggleable__control sk-hidden--visually\" id=\"sk-estimator-id-3\" type=\"checkbox\" ><label for=\"sk-estimator-id-3\" class=\"sk-toggleable__label sk-toggleable__label-arrow\">estimator: LinearRegression</label><div class=\"sk-toggleable__content\"><pre>LinearRegression()</pre></div></div></div><div class=\"sk-serial\"><div class=\"sk-item\"><div class=\"sk-estimator sk-toggleable\"><input class=\"sk-toggleable__control sk-hidden--visually\" id=\"sk-estimator-id-4\" type=\"checkbox\" ><label for=\"sk-estimator-id-4\" class=\"sk-toggleable__label sk-toggleable__label-arrow\">LinearRegression</label><div class=\"sk-toggleable__content\"><pre>LinearRegression()</pre></div></div></div></div></div></div></div></div></div></div>"
      ],
      "text/plain": [
       "RFECV(cv=5, estimator=LinearRegression())"
      ]
     },
     "execution_count": 81,
     "metadata": {},
     "output_type": "execute_result"
    }
   ],
   "source": [
    "selector.fit(X, y)"
   ]
  },
  {
   "cell_type": "code",
   "execution_count": 82,
   "id": "46e89152-67ba-457d-8f86-373b3899fafa",
   "metadata": {},
   "outputs": [
    {
     "data": {
      "text/plain": [
       "array([7, 5, 2, 1, 3, 4, 6])"
      ]
     },
     "execution_count": 82,
     "metadata": {},
     "output_type": "execute_result"
    }
   ],
   "source": [
    "selector.ranking_"
   ]
  },
  {
   "cell_type": "code",
   "execution_count": 83,
   "id": "2fb6883f-c161-4874-b6b4-2ab0909f6e20",
   "metadata": {},
   "outputs": [
    {
     "data": {
      "text/plain": [
       "array(['bigfootlike', 'expedition', 'suttles', 'kathy', 'sticky', 'smell',\n",
       "       'guns'], dtype=object)"
      ]
     },
     "execution_count": 83,
     "metadata": {},
     "output_type": "execute_result"
    }
   ],
   "source": [
    "selector.feature_names_in_"
   ]
  },
  {
   "cell_type": "code",
   "execution_count": 84,
   "id": "695c5c62-aee4-45e5-978a-70c007a5907f",
   "metadata": {},
   "outputs": [
    {
     "data": {
      "text/plain": [
       "1"
      ]
     },
     "execution_count": 84,
     "metadata": {},
     "output_type": "execute_result"
    }
   ],
   "source": [
    "selector.n_features_"
   ]
  },
  {
   "cell_type": "code",
   "execution_count": 85,
   "id": "522a0cfd-f8ff-43fc-976e-4433856c1a41",
   "metadata": {},
   "outputs": [],
   "source": [
    "coef = lm.coef_"
   ]
  },
  {
   "cell_type": "code",
   "execution_count": 86,
   "id": "355fe5ce-1cd1-4ddd-b821-ecbf36cde82c",
   "metadata": {
    "tags": []
   },
   "outputs": [],
   "source": [
    "feature_names = X_train.columns"
   ]
  },
  {
   "cell_type": "code",
   "execution_count": 87,
   "id": "d9bffa77-755e-4c1c-9537-8fe59eedb064",
   "metadata": {
    "tags": []
   },
   "outputs": [
    {
     "data": {
      "image/png": "[encoded data removed]",
      "text/plain": [
       "<Figure size 1000x600 with 1 Axes>"
      ]
     },
     "metadata": {},
     "output_type": "display_data"
    }
   ],
   "source": [
    "plt.figure(figsize=(10, 6))\n",
    "plt.barh(feature_names, coef)\n",
    "plt.xlabel('Coefficient')\n",
    "plt.ylabel('Feature')\n",
    "plt.title('Feature Importance')\n",
    "plt.show()"
   ]
  },
  {
   "cell_type": "markdown",
   "id": "b055a9ce-eadd-47cc-930d-d3a89dd5f584",
   "metadata": {},
   "source": [
    "# 4. ***Using Machine Learning to Predict Bigfoot-Like Accounts***\n",
    "\n",
    "Now we can use all the features and use algorithms to predict if a description is bigfoot-like or not"
   ]
  },
  {
   "cell_type": "markdown",
   "id": "7c10f8db-f5f8-49f9-bf3b-7b9ebbb5b7de",
   "metadata": {
    "tags": []
   },
   "source": [
    "## Treating Data for the Machine Learning Model"
   ]
  },
  {
   "cell_type": "code",
   "execution_count": 88,
   "id": "fef4551a-5098-4732-acdb-e46ef4e531a6",
   "metadata": {
    "tags": []
   },
   "outputs": [
    {
     "data": {
      "text/plain": [
       "name                  0\n",
       "culture               1\n",
       "date                 29\n",
       "description           0\n",
       "speaks                0\n",
       "tools                 0\n",
       "fire                  0\n",
       "clothes               0\n",
       "guns                  0\n",
       "smell                 0\n",
       "shapeshifter          0\n",
       "interbreeds           0\n",
       "home                  0\n",
       "bundle                0\n",
       "weakspot              0\n",
       "spikes                0\n",
       "rockgiant             0\n",
       "sticky                0\n",
       "bows                  0\n",
       "nondescript           0\n",
       "kathy                 0\n",
       "suttles               0\n",
       "expedition            0\n",
       "christophermurphy     0\n",
       "monsterquest          0\n",
       "loren                 0\n",
       "bigfootlike           0\n",
       "intelligent           0\n",
       "hairy                 0\n",
       "probablyhuman         0\n",
       "dtype: int64"
      ]
     },
     "execution_count": 88,
     "metadata": {},
     "output_type": "execute_result"
    }
   ],
   "source": [
    "df.isnull().sum()"
   ]
  },
  {
   "cell_type": "code",
   "execution_count": 89,
   "id": "402db75b-7116-4d0f-b248-05346d29ef25",
   "metadata": {},
   "outputs": [
    {
     "data": {
      "text/plain": [
       "154"
      ]
     },
     "execution_count": 89,
     "metadata": {},
     "output_type": "execute_result"
    }
   ],
   "source": [
    "len(df)"
   ]
  },
  {
   "cell_type": "markdown",
   "id": "27bc329f-b191-449e-ab4b-528443b66f19",
   "metadata": {},
   "source": [
    "### Filling Missing Dates With the Mean"
   ]
  },
  {
   "cell_type": "code",
   "execution_count": 90,
   "id": "f3159028-b6e2-4a42-81a2-5e9b3d0dc12a",
   "metadata": {
    "tags": []
   },
   "outputs": [
    {
     "data": {
      "text/plain": [
       "1943.0"
      ]
     },
     "execution_count": 90,
     "metadata": {},
     "output_type": "execute_result"
    }
   ],
   "source": [
    "meandate = df.date.mean().round()\n",
    "meandate"
   ]
  },
  {
   "cell_type": "code",
   "execution_count": 91,
   "id": "904e01a8-fdab-4526-8684-3058f8e83a1c",
   "metadata": {
    "tags": []
   },
   "outputs": [],
   "source": [
    "df['date'].fillna(meandate, inplace=True)"
   ]
  },
  {
   "cell_type": "markdown",
   "id": "1b162b58-e819-44d8-b832-dc9d7256c0fa",
   "metadata": {},
   "source": [
    "### Dropping Columns That Won't Be Used\n",
    "\n",
    "These columns are mainly in the string format, so the algorithm won't understand them."
   ]
  },
  {
   "cell_type": "code",
   "execution_count": 92,
   "id": "5ecc6acf-bd91-4530-9454-480f018726c1",
   "metadata": {},
   "outputs": [],
   "source": [
    "df.drop(['name', 'culture', 'description', 'nondescript'], axis=1, inplace=True)"
   ]
  },
  {
   "cell_type": "code",
   "execution_count": 93,
   "id": "a2daa85f-65d5-4f68-be3c-876215ba203a",
   "metadata": {
    "tags": []
   },
   "outputs": [
    {
     "data": {
      "text/plain": [
       "date                 0\n",
       "speaks               0\n",
       "tools                0\n",
       "fire                 0\n",
       "clothes              0\n",
       "guns                 0\n",
       "smell                0\n",
       "shapeshifter         0\n",
       "interbreeds          0\n",
       "home                 0\n",
       "bundle               0\n",
       "weakspot             0\n",
       "spikes               0\n",
       "rockgiant            0\n",
       "sticky               0\n",
       "bows                 0\n",
       "kathy                0\n",
       "suttles              0\n",
       "expedition           0\n",
       "christophermurphy    0\n",
       "monsterquest         0\n",
       "loren                0\n",
       "bigfootlike          0\n",
       "intelligent          0\n",
       "hairy                0\n",
       "probablyhuman        0\n",
       "dtype: int64"
      ]
     },
     "execution_count": 93,
     "metadata": {},
     "output_type": "execute_result"
    }
   ],
   "source": [
    "df.isnull().sum()"
   ]
  },
  {
   "cell_type": "code",
   "execution_count": 94,
   "id": "d27c2032-14ed-4d24-a534-022471a6e294",
   "metadata": {},
   "outputs": [
    {
     "data": {
      "text/plain": [
       "((154, 26),\n",
       " Index(['date', 'speaks', 'tools', 'fire', 'clothes', 'guns', 'smell',\n",
       "        'shapeshifter', 'interbreeds', 'home', 'bundle', 'weakspot', 'spikes',\n",
       "        'rockgiant', 'sticky', 'bows', 'kathy', 'suttles', 'expedition',\n",
       "        'christophermurphy', 'monsterquest', 'loren', 'bigfootlike',\n",
       "        'intelligent', 'hairy', 'probablyhuman'],\n",
       "       dtype='object'))"
      ]
     },
     "execution_count": 94,
     "metadata": {},
     "output_type": "execute_result"
    }
   ],
   "source": [
    "df.shape, df.columns"
   ]
  },
  {
   "cell_type": "markdown",
   "id": "c0acf5d0-27b2-4e6e-9e25-28b9c3bed63f",
   "metadata": {
    "tags": []
   },
   "source": [
    "## Checking Correlation Between the Variables\n",
    "Here we check how much every other variable is correlated to a bigfoot-like description"
   ]
  },
  {
   "cell_type": "code",
   "execution_count": 95,
   "id": "5867032f-38f4-4590-b96e-7f79c7321ad9",
   "metadata": {},
   "outputs": [
    {
     "data": {
      "text/plain": [
       "date                 0.170989\n",
       "speaks              -0.163963\n",
       "tools               -0.102836\n",
       "fire                -0.129338\n",
       "clothes             -0.039316\n",
       "guns                -0.040407\n",
       "smell                0.361421\n",
       "shapeshifter        -0.032427\n",
       "interbreeds          0.052205\n",
       "home                -0.139974\n",
       "bundle              -0.042691\n",
       "weakspot            -0.076870\n",
       "spikes              -0.057524\n",
       "rockgiant           -0.102403\n",
       "sticky               0.036159\n",
       "bows                -0.040407\n",
       "kathy                0.145609\n",
       "suttles             -0.133463\n",
       "expedition           0.077162\n",
       "christophermurphy    0.221565\n",
       "monsterquest         0.203026\n",
       "loren                0.088908\n",
       "bigfootlike          1.000000\n",
       "intelligent         -0.163963\n",
       "hairy                0.516803\n",
       "probablyhuman       -0.281434\n",
       "dtype: float64"
      ]
     },
     "execution_count": 95,
     "metadata": {},
     "output_type": "execute_result"
    }
   ],
   "source": [
    "df.corrwith(df['bigfootlike'])"
   ]
  },
  {
   "cell_type": "markdown",
   "id": "66e2ea98-1676-4eb6-af75-48de9169b165",
   "metadata": {},
   "source": [
    "## Data Preprocessing"
   ]
  },
  {
   "cell_type": "markdown",
   "id": "1f216efa-4c9a-4e94-8b3d-b5e8cc7db616",
   "metadata": {
    "tags": []
   },
   "source": [
    "### Checking if the Data is Unbalanced\n",
    "If the data is unbalanced, it can negatively impact the performance of our model."
   ]
  },
  {
   "cell_type": "code",
   "execution_count": 96,
   "id": "25740819-65a6-4e9a-8f7d-134c59ac3a3f",
   "metadata": {},
   "outputs": [
    {
     "data": {
      "text/plain": [
       "bigfootlike\n",
       "0.0    137\n",
       "1.0     17\n",
       "Name: count, dtype: int64"
      ]
     },
     "execution_count": 96,
     "metadata": {},
     "output_type": "execute_result"
    },
    {
     "data": {
      "image/png": "[encoded data removed]",
      "text/plain": [
       "<Figure size 640x480 with 1 Axes>"
      ]
     },
     "metadata": {},
     "output_type": "display_data"
    }
   ],
   "source": [
    "sns.countplot(x=df['bigfootlike'])\n",
    "df.bigfootlike.value_counts()"
   ]
  },
  {
   "cell_type": "markdown",
   "id": "4c0357e7-a54c-4dda-8d7e-29cbc9e30795",
   "metadata": {},
   "source": [
    "### Defining X and y to Train the Model"
   ]
  },
  {
   "cell_type": "code",
   "execution_count": 97,
   "id": "48007915-8b14-4bfd-86a0-b19f7f30c2e8",
   "metadata": {
    "tags": []
   },
   "outputs": [],
   "source": [
    "X = df.drop('bigfootlike', axis=1)\n",
    "y = df['bigfootlike']"
   ]
  },
  {
   "cell_type": "code",
   "execution_count": 98,
   "id": "16b8398f-fdb4-4f6e-a7ff-0417bcb8f7c5",
   "metadata": {},
   "outputs": [
    {
     "data": {
      "text/plain": [
       "((154, 25), (154,))"
      ]
     },
     "execution_count": 98,
     "metadata": {},
     "output_type": "execute_result"
    }
   ],
   "source": [
    "X.shape, y.shape"
   ]
  },
  {
   "cell_type": "markdown",
   "id": "5e8ae2cf-5a37-41e6-89a3-57950a72a511",
   "metadata": {},
   "source": [
    "### Oversampling\n",
    "As we can see, the data is heavily unbalanced, so we can use oversampling to balance it and increase the algorithms' performances."
   ]
  },
  {
   "cell_type": "markdown",
   "id": "1ae8424f-bb2b-43a0-8091-cf7548ff855f",
   "metadata": {},
   "source": [
    "#### Importing Libraries"
   ]
  },
  {
   "cell_type": "code",
   "execution_count": 99,
   "id": "56f2c756-6724-4dc4-b20a-208d189c11e3",
   "metadata": {},
   "outputs": [],
   "source": [
    "from imblearn.over_sampling import RandomOverSampler"
   ]
  },
  {
   "cell_type": "markdown",
   "id": "10a5f663-5b9c-42b1-9e6c-025abeded1f7",
   "metadata": {
    "tags": []
   },
   "source": [
    "#### Using Naive Random Over-Sampling"
   ]
  },
  {
   "cell_type": "code",
   "execution_count": 100,
   "id": "57d6ce82-d13e-49f9-8ccf-461869f05e89",
   "metadata": {},
   "outputs": [],
   "source": [
    "ros = RandomOverSampler(random_state=0)\n",
    "\n",
    "X, y = ros.fit_resample(X, y)"
   ]
  },
  {
   "cell_type": "markdown",
   "id": "dfa260b4-ea11-46f4-b31c-229dd9685516",
   "metadata": {
    "tags": []
   },
   "source": [
    "### Splitting the Data Into 70% and 30% to Train and Test the Model"
   ]
  },
  {
   "cell_type": "code",
   "execution_count": 101,
   "id": "3d3ca15f-d576-4c82-8145-45cc505615d1",
   "metadata": {
    "tags": []
   },
   "outputs": [],
   "source": [
    "X_train, X_test, y_train, y_test = train_test_split(X, y, test_size=0.3, random_state=111)"
   ]
  },
  {
   "cell_type": "code",
   "execution_count": 102,
   "id": "0c15e638-5075-4212-9a34-433bd8e7c265",
   "metadata": {
    "tags": []
   },
   "outputs": [
    {
     "data": {
      "text/plain": [
       "((191, 25), (83, 25), (191,), (83,))"
      ]
     },
     "execution_count": 102,
     "metadata": {},
     "output_type": "execute_result"
    }
   ],
   "source": [
    "X_train.shape, X_test.shape, y_train.shape, y_test.shape"
   ]
  },
  {
   "cell_type": "markdown",
   "id": "069d84a0-8827-4c11-b88f-229bfdd7bd29",
   "metadata": {},
   "source": [
    "## Training the Models"
   ]
  },
  {
   "cell_type": "markdown",
   "id": "3397bdac-e6fb-4f26-859c-8745f77fcdf0",
   "metadata": {},
   "source": [
    "### Importing Libraries"
   ]
  },
  {
   "cell_type": "code",
   "execution_count": 103,
   "id": "77ddb800-912b-4c52-a242-a01d3252dd3a",
   "metadata": {},
   "outputs": [],
   "source": [
    "from sklearn.ensemble import (AdaBoostClassifier, \n",
    "                              GradientBoostingClassifier, \n",
    "                              ExtraTreesClassifier,\n",
    "                              RandomForestClassifier)\n",
    "\n",
    "from sklearn.neighbors import KNeighborsClassifier\n",
    "from sklearn.tree import DecisionTreeClassifier"
   ]
  },
  {
   "cell_type": "markdown",
   "id": "2be0dac9-0624-4e85-88b1-74fe5bc78954",
   "metadata": {},
   "source": [
    "## Organizing and Training"
   ]
  },
  {
   "cell_type": "code",
   "execution_count": 104,
   "id": "dda90310-008b-4c55-b913-33bb7ab9e10c",
   "metadata": {
    "tags": []
   },
   "outputs": [],
   "source": [
    "class AuxiliaryModel(object):\n",
    "    def __init__(self, clf, seed=123, params=None):\n",
    "        if params:\n",
    "            params['random_state'] = seed\n",
    "            self.clf = clf(**params)\n",
    "        else:\n",
    "            self.clf = clf()\n",
    "    def predict(self, x):\n",
    "        return self.clf.predict(x)\n",
    "    \n",
    "    def fit(self,x,y):\n",
    "        return self.clf.fit(x,y)\n",
    "    \n",
    "    def feature_importances(self,x,y):\n",
    "        return self.clf.fit(x,y).feature_importances_\n",
    "    \n",
    "    def score(self,x,y):\n",
    "        return self.clf.score(x,y)"
   ]
  },
  {
   "cell_type": "code",
   "execution_count": 105,
   "id": "5eb07b11-5fd3-409e-8efa-7087622ad1d7",
   "metadata": {
    "tags": []
   },
   "outputs": [],
   "source": [
    "models = [{'name': 'etree',\n",
    "            'model': ExtraTreesClassifier},\n",
    "           {'name': 'gradboost',\n",
    "             'model': GradientBoostingClassifier}, \n",
    "           {'name': 'adaboost',\n",
    "             'model': AdaBoostClassifier},\n",
    "           {'name': 'KNN',\n",
    "            'model': KNeighborsClassifier},\n",
    "           {'name': 'Dtree',\n",
    "            'model': DecisionTreeClassifier},\n",
    "           {'name': 'RForest',\n",
    "            'model': RandomForestClassifier}\n",
    "          ]"
   ]
  },
  {
   "cell_type": "code",
   "execution_count": 106,
   "id": "60af0114-ec97-4f16-83eb-76237ec7fffd",
   "metadata": {
    "tags": []
   },
   "outputs": [
    {
     "data": {
      "text/plain": [
       "'RForest'"
      ]
     },
     "execution_count": 106,
     "metadata": {},
     "output_type": "execute_result"
    }
   ],
   "source": [
    "models[-1]['name']"
   ]
  },
  {
   "cell_type": "code",
   "execution_count": 107,
   "id": "7c95dd05-1a48-4ed8-889f-a81359c47c31",
   "metadata": {
    "tags": []
   },
   "outputs": [],
   "source": [
    "results = []\n",
    "for model in models:\n",
    "    x = AuxiliaryModel(clf=model['model'])\n",
    "    # Treining the model\n",
    "    x.fit(X_train, y_train)\n",
    "    \n",
    "    # Generating the prediction\n",
    "    x_pred = x.predict(X_test)\n",
    "    \n",
    "    # gGenerating the score\n",
    "    accuracy = round(x.score(X_test,y_test)*100,2)\n",
    "    \n",
    "    results.append({'name': model['name'],\n",
    "                       'score': accuracy,\n",
    "                       'pred': x_pred })"
   ]
  },
  {
   "cell_type": "code",
   "execution_count": 108,
   "id": "39a79f60-43a3-4849-9b81-d166c147bb71",
   "metadata": {
    "tags": []
   },
   "outputs": [],
   "source": [
    "models = pd.DataFrame(results)"
   ]
  },
  {
   "cell_type": "markdown",
   "id": "31acab29-743a-478e-85df-e0b10e9f6089",
   "metadata": {},
   "source": [
    "### Model Results\n",
    "The model got a great score! However, we need to check the score again using cross-validation."
   ]
  },
  {
   "cell_type": "code",
   "execution_count": 109,
   "id": "2726417d-10a9-4e26-a774-6ee35671ef2a",
   "metadata": {
    "tags": []
   },
   "outputs": [
    {
     "data": {
      "text/html": [
       "<div>\n",
       "<style scoped>\n",
       "    .dataframe tbody tr th:only-of-type {\n",
       "        vertical-align: middle;\n",
       "    }\n",
       "\n",
       "    .dataframe tbody tr th {\n",
       "        vertical-align: top;\n",
       "    }\n",
       "\n",
       "    .dataframe thead th {\n",
       "        text-align: right;\n",
       "    }\n",
       "</style>\n",
       "<table border=\"1\" class=\"dataframe\">\n",
       "  <thead>\n",
       "    <tr style=\"text-align: right;\">\n",
       "      <th></th>\n",
       "      <th>name</th>\n",
       "      <th>score</th>\n",
       "    </tr>\n",
       "  </thead>\n",
       "  <tbody>\n",
       "    <tr>\n",
       "      <th>0</th>\n",
       "      <td>etree</td>\n",
       "      <td>95.18</td>\n",
       "    </tr>\n",
       "    <tr>\n",
       "      <th>1</th>\n",
       "      <td>gradboost</td>\n",
       "      <td>95.18</td>\n",
       "    </tr>\n",
       "    <tr>\n",
       "      <th>2</th>\n",
       "      <td>adaboost</td>\n",
       "      <td>95.18</td>\n",
       "    </tr>\n",
       "    <tr>\n",
       "      <th>4</th>\n",
       "      <td>Dtree</td>\n",
       "      <td>95.18</td>\n",
       "    </tr>\n",
       "    <tr>\n",
       "      <th>5</th>\n",
       "      <td>RForest</td>\n",
       "      <td>95.18</td>\n",
       "    </tr>\n",
       "    <tr>\n",
       "      <th>3</th>\n",
       "      <td>KNN</td>\n",
       "      <td>81.93</td>\n",
       "    </tr>\n",
       "  </tbody>\n",
       "</table>\n",
       "</div>"
      ],
      "text/plain": [
       "        name  score\n",
       "0      etree  95.18\n",
       "1  gradboost  95.18\n",
       "2   adaboost  95.18\n",
       "4      Dtree  95.18\n",
       "5    RForest  95.18\n",
       "3        KNN  81.93"
      ]
     },
     "execution_count": 109,
     "metadata": {},
     "output_type": "execute_result"
    }
   ],
   "source": [
    "models[['name','score']].sort_values(by='score', ascending=False)"
   ]
  },
  {
   "cell_type": "markdown",
   "id": "aa398f2f-6838-4dcf-bb57-18a89872a3a1",
   "metadata": {
    "tags": []
   },
   "source": [
    "## Cross-Validation\n",
    "Cross-validation is used to check the performance of the model by training it with multiple different portions of train and test data."
   ]
  },
  {
   "cell_type": "code",
   "execution_count": 110,
   "id": "abc46b91-33c9-4b5b-a74d-ba777c8088e9",
   "metadata": {
    "tags": []
   },
   "outputs": [],
   "source": [
    "from sklearn.model_selection import KFold \n",
    "from sklearn.model_selection import cross_val_score \n",
    "from sklearn.model_selection import cross_val_predict "
   ]
  },
  {
   "cell_type": "code",
   "execution_count": 111,
   "id": "39222c9b-4729-4f75-aacd-638a872c8d98",
   "metadata": {
    "tags": []
   },
   "outputs": [],
   "source": [
    "kfold = KFold(n_splits=5)"
   ]
  },
  {
   "cell_type": "code",
   "execution_count": 112,
   "id": "22b7f26c-3924-422a-9209-f007e1a71ce0",
   "metadata": {
    "tags": []
   },
   "outputs": [],
   "source": [
    "etree = ExtraTreesClassifier(n_estimators=300, random_state=111)"
   ]
  },
  {
   "cell_type": "code",
   "execution_count": 113,
   "id": "d3443d2b-a2cb-4ffc-b182-ea69570a6587",
   "metadata": {
    "tags": []
   },
   "outputs": [
    {
     "name": "stdout",
     "output_type": "stream",
     "text": [
      "Etree score: 0.9475033738191634\n"
     ]
    }
   ],
   "source": [
    "result_etree = cross_val_score(etree, X_train, y_train, cv=kfold, scoring='accuracy')\n",
    "print(\"Etree score:\", result_etree.mean())"
   ]
  },
  {
   "cell_type": "markdown",
   "id": "869c3e10-8d39-42a2-915b-fd579dd10289",
   "metadata": {},
   "source": [
    "Here we can see that the model did great, but we still got to do some other tests to really check the model's performance."
   ]
  },
  {
   "cell_type": "code",
   "execution_count": 114,
   "id": "92527b04-c575-4fc2-a7aa-fd025ab3c264",
   "metadata": {
    "tags": []
   },
   "outputs": [
    {
     "data": {
      "text/html": [
       "<style>#sk-container-id-3 {color: black;background-color: white;}#sk-container-id-3 pre{padding: 0;}#sk-container-id-3 div.sk-toggleable {background-color: white;}#sk-container-id-3 label.sk-toggleable__label {cursor: pointer;display: block;width: 100%;margin-bottom: 0;padding: 0.3em;box-sizing: border-box;text-align: center;}#sk-container-id-3 label.sk-toggleable__label-arrow:before {content: \"▸\";float: left;margin-right: 0.25em;color: #696969;}#sk-container-id-3 label.sk-toggleable__label-arrow:hover:before {color: black;}#sk-container-id-3 div.sk-estimator:hover label.sk-toggleable__label-arrow:before {color: black;}#sk-container-id-3 div.sk-toggleable__content {max-height: 0;max-width: 0;overflow: hidden;text-align: left;background-color: #f0f8ff;}#sk-container-id-3 div.sk-toggleable__content pre {margin: 0.2em;color: black;border-radius: 0.25em;background-color: #f0f8ff;}#sk-container-id-3 input.sk-toggleable__control:checked~div.sk-toggleable__content {max-height: 200px;max-width: 100%;overflow: auto;}#sk-container-id-3 input.sk-toggleable__control:checked~label.sk-toggleable__label-arrow:before {content: \"▾\";}#sk-container-id-3 div.sk-estimator input.sk-toggleable__control:checked~label.sk-toggleable__label {background-color: #d4ebff;}#sk-container-id-3 div.sk-label input.sk-toggleable__control:checked~label.sk-toggleable__label {background-color: #d4ebff;}#sk-container-id-3 input.sk-hidden--visually {border: 0;clip: rect(1px 1px 1px 1px);clip: rect(1px, 1px, 1px, 1px);height: 1px;margin: -1px;overflow: hidden;padding: 0;position: absolute;width: 1px;}#sk-container-id-3 div.sk-estimator {font-family: monospace;background-color: #f0f8ff;border: 1px dotted black;border-radius: 0.25em;box-sizing: border-box;margin-bottom: 0.5em;}#sk-container-id-3 div.sk-estimator:hover {background-color: #d4ebff;}#sk-container-id-3 div.sk-parallel-item::after {content: \"\";width: 100%;border-bottom: 1px solid gray;flex-grow: 1;}#sk-container-id-3 div.sk-label:hover label.sk-toggleable__label {background-color: #d4ebff;}#sk-container-id-3 div.sk-serial::before {content: \"\";position: absolute;border-left: 1px solid gray;box-sizing: border-box;top: 0;bottom: 0;left: 50%;z-index: 0;}#sk-container-id-3 div.sk-serial {display: flex;flex-direction: column;align-items: center;background-color: white;padding-right: 0.2em;padding-left: 0.2em;position: relative;}#sk-container-id-3 div.sk-item {position: relative;z-index: 1;}#sk-container-id-3 div.sk-parallel {display: flex;align-items: stretch;justify-content: center;background-color: white;position: relative;}#sk-container-id-3 div.sk-item::before, #sk-container-id-3 div.sk-parallel-item::before {content: \"\";position: absolute;border-left: 1px solid gray;box-sizing: border-box;top: 0;bottom: 0;left: 50%;z-index: -1;}#sk-container-id-3 div.sk-parallel-item {display: flex;flex-direction: column;z-index: 1;position: relative;background-color: white;}#sk-container-id-3 div.sk-parallel-item:first-child::after {align-self: flex-end;width: 50%;}#sk-container-id-3 div.sk-parallel-item:last-child::after {align-self: flex-start;width: 50%;}#sk-container-id-3 div.sk-parallel-item:only-child::after {width: 0;}#sk-container-id-3 div.sk-dashed-wrapped {border: 1px dashed gray;margin: 0 0.4em 0.5em 0.4em;box-sizing: border-box;padding-bottom: 0.4em;background-color: white;}#sk-container-id-3 div.sk-label label {font-family: monospace;font-weight: bold;display: inline-block;line-height: 1.2em;}#sk-container-id-3 div.sk-label-container {text-align: center;}#sk-container-id-3 div.sk-container {/* jupyter's `normalize.less` sets `[hidden] { display: none; }` but bootstrap.min.css set `[hidden] { display: none !important; }` so we also need the `!important` here to be able to override the default hidden behavior on the sphinx rendered scikit-learn.org. See: https://github.com/scikit-learn/scikit-learn/issues/21755 */display: inline-block !important;position: relative;}#sk-container-id-3 div.sk-text-repr-fallback {display: none;}</style><div id=\"sk-container-id-3\" class=\"sk-top-container\"><div class=\"sk-text-repr-fallback\"><pre>ExtraTreesClassifier(n_estimators=300, random_state=111)</pre><b>In a Jupyter environment, please rerun this cell to show the HTML representation or trust the notebook. <br />On GitHub, the HTML representation is unable to render, please try loading this page with nbviewer.org.</b></div><div class=\"sk-container\" hidden><div class=\"sk-item\"><div class=\"sk-estimator sk-toggleable\"><input class=\"sk-toggleable__control sk-hidden--visually\" id=\"sk-estimator-id-5\" type=\"checkbox\" checked><label for=\"sk-estimator-id-5\" class=\"sk-toggleable__label sk-toggleable__label-arrow\">ExtraTreesClassifier</label><div class=\"sk-toggleable__content\"><pre>ExtraTreesClassifier(n_estimators=300, random_state=111)</pre></div></div></div></div></div>"
      ],
      "text/plain": [
       "ExtraTreesClassifier(n_estimators=300, random_state=111)"
      ]
     },
     "execution_count": 114,
     "metadata": {},
     "output_type": "execute_result"
    }
   ],
   "source": [
    "etree.fit(X_train, y_train)"
   ]
  },
  {
   "cell_type": "code",
   "execution_count": 115,
   "id": "bb11c9dc-7e3b-41a5-aa9c-a8eab8b84abc",
   "metadata": {
    "tags": []
   },
   "outputs": [
    {
     "data": {
      "text/plain": [
       "array([1., 1., 1., 0., 1., 0., 1., 0., 0., 1., 1., 1., 1., 1., 1., 0., 1.,\n",
       "       0., 0., 0., 0., 0., 1., 0., 0., 1., 1., 1., 1., 0., 1., 1., 1., 0.,\n",
       "       1., 1., 1., 0., 0., 1., 0., 0., 1., 1., 0., 0., 0., 0., 0., 1., 0.,\n",
       "       0., 1., 0., 0., 1., 1., 1., 0., 0., 1., 0., 0., 0., 0., 0., 1., 1.,\n",
       "       1., 1., 0., 0., 1., 0., 0., 0., 1., 0., 0., 1., 0., 0., 1.])"
      ]
     },
     "execution_count": 115,
     "metadata": {},
     "output_type": "execute_result"
    }
   ],
   "source": [
    "etree_pred = etree.predict(X_test)\n",
    "etree_pred"
   ]
  },
  {
   "cell_type": "markdown",
   "id": "0c53a9fe-95b6-4911-9950-c2376c141fce",
   "metadata": {
    "tags": []
   },
   "source": [
    "## Confusion Matrix\n",
    "The confusion Matrix can show us what the model got right or wrong. We can see it got 4 false positives."
   ]
  },
  {
   "cell_type": "code",
   "execution_count": 116,
   "id": "26fe0cce-891f-477d-8215-003eff432965",
   "metadata": {
    "tags": []
   },
   "outputs": [],
   "source": [
    "from sklearn.metrics import confusion_matrix"
   ]
  },
  {
   "cell_type": "code",
   "execution_count": 117,
   "id": "cfe572af-79bf-4f0c-9add-909481fc41d1",
   "metadata": {
    "tags": []
   },
   "outputs": [
    {
     "data": {
      "image/png": "[encoded data removed]",
      "text/plain": [
       "<Figure size 640x480 with 2 Axes>"
      ]
     },
     "metadata": {},
     "output_type": "display_data"
    }
   ],
   "source": [
    "sns.heatmap(confusion_matrix(y_test, etree_pred), cmap='OrRd', annot=True)\n",
    "plt.title('Confusion Matrix')\n",
    "plt.xlabel('Real Values')\n",
    "plt.ylabel('Predictions')\n",
    "plt.show()"
   ]
  },
  {
   "cell_type": "markdown",
   "id": "5770352c-8803-4430-a940-0d877fcc6ce8",
   "metadata": {},
   "source": [
    "## Performance Metrics\n",
    "\n",
    "Here we check the recall, accuracy, precision and F1 score of the model. The metrics indicate a great performance.\n"
   ]
  },
  {
   "cell_type": "code",
   "execution_count": 118,
   "id": "eb6a7f16-7f97-414a-8ca8-328f3fff76fb",
   "metadata": {
    "tags": []
   },
   "outputs": [],
   "source": [
    "from sklearn.metrics import (recall_score,\n",
    "                             accuracy_score,\n",
    "                             precision_score,\n",
    "                             f1_score)"
   ]
  },
  {
   "cell_type": "code",
   "execution_count": 119,
   "id": "598b5e8d-7245-4304-8cba-bc75789fbaed",
   "metadata": {
    "tags": []
   },
   "outputs": [
    {
     "data": {
      "text/plain": [
       "1.0"
      ]
     },
     "execution_count": 119,
     "metadata": {},
     "output_type": "execute_result"
    }
   ],
   "source": [
    "recall_score(y_test, etree_pred)"
   ]
  },
  {
   "cell_type": "code",
   "execution_count": 120,
   "id": "acb55ae6-7beb-4d7c-b03f-7ba941de7348",
   "metadata": {
    "tags": []
   },
   "outputs": [
    {
     "data": {
      "text/plain": [
       "0.9518072289156626"
      ]
     },
     "execution_count": 120,
     "metadata": {},
     "output_type": "execute_result"
    }
   ],
   "source": [
    "accuracy_score(y_test, etree_pred)"
   ]
  },
  {
   "cell_type": "code",
   "execution_count": 121,
   "id": "5606b84b-340b-4e32-a014-be870c1617aa",
   "metadata": {
    "tags": []
   },
   "outputs": [
    {
     "data": {
      "text/plain": [
       "0.9"
      ]
     },
     "execution_count": 121,
     "metadata": {},
     "output_type": "execute_result"
    }
   ],
   "source": [
    "precision_score(y_test, etree_pred)"
   ]
  },
  {
   "cell_type": "code",
   "execution_count": 122,
   "id": "d9a00931-9ded-4b53-ae2c-4fba71b7fcb7",
   "metadata": {
    "tags": []
   },
   "outputs": [
    {
     "data": {
      "text/plain": [
       "0.9473684210526316"
      ]
     },
     "execution_count": 122,
     "metadata": {},
     "output_type": "execute_result"
    }
   ],
   "source": [
    "f1_score(y_test, etree_pred)"
   ]
  },
  {
   "cell_type": "markdown",
   "id": "dfa68d78-b2b4-4bd1-a546-0d852ec6bf7b",
   "metadata": {},
   "source": [
    "## ROC Curve\n",
    "With this curve, we can see what's the best threshold for our model."
   ]
  },
  {
   "cell_type": "code",
   "execution_count": 123,
   "id": "f6a5edba-8d46-4498-8dad-e326d7d9d4e7",
   "metadata": {},
   "outputs": [],
   "source": [
    "from sklearn.metrics import roc_curve\n",
    "from sklearn.metrics import roc_auc_score"
   ]
  },
  {
   "cell_type": "markdown",
   "id": "9b99449d-86c8-429c-b958-a2327c0430e0",
   "metadata": {},
   "source": [
    "### Plotting the Curve"
   ]
  },
  {
   "cell_type": "code",
   "execution_count": 124,
   "id": "1396c8a8-61b7-4c64-972b-79f192cb1ef2",
   "metadata": {},
   "outputs": [
    {
     "data": {
      "image/png": "[encoded data removed]",
      "text/plain": [
       "<Figure size 640x480 with 1 Axes>"
      ]
     },
     "metadata": {},
     "output_type": "display_data"
    }
   ],
   "source": [
    "etree_prob = etree.predict_proba(X_test)\n",
    "etree_prob = etree_prob[:,1]\n",
    "\n",
    "fpr, tpr, thresholds = roc_curve(y_test, etree_prob)\n",
    "\n",
    "plt.plot(fpr, tpr, marker='.', label='Etree')\n",
    "plt.xlabel('Taxa de Falsos Positivos')\n",
    "plt.ylabel('Taxa de Verdadeiros Positivos')\n",
    "plt.show()"
   ]
  },
  {
   "cell_type": "markdown",
   "id": "83d176c9-a362-488d-865d-4e1fa7418d74",
   "metadata": {},
   "source": [
    "### AUC Value\n",
    "\n",
    "The Area Under the Curve value can be used to demonstrate the quality of the model."
   ]
  },
  {
   "cell_type": "code",
   "execution_count": 125,
   "id": "85a11862-a92f-448c-9cc6-7876864f7a07",
   "metadata": {},
   "outputs": [
    {
     "name": "stdout",
     "output_type": "stream",
     "text": [
      "Etree: ROC AUC=0.989\n"
     ]
    }
   ],
   "source": [
    "etree_auc = roc_auc_score(y_test, etree_prob)\n",
    "print('Etree: ROC AUC=%.3f' %(etree_auc))"
   ]
  },
  {
   "cell_type": "markdown",
   "id": "744b985a-f4aa-4b5b-b339-632cc5b86e71",
   "metadata": {},
   "source": [
    "### Optimal Threshold\n",
    "Here que can see what is the best threshold the increase the model's precision."
   ]
  },
  {
   "cell_type": "code",
   "execution_count": 126,
   "id": "1beb7f74-ec28-4fd9-a6ed-4b63ec112fb6",
   "metadata": {},
   "outputs": [
    {
     "name": "stdout",
     "output_type": "stream",
     "text": [
      "Optimal Threshold: 1.0\n"
     ]
    }
   ],
   "source": [
    "optimal_idx = np.argmax(tpr - fpr)\n",
    "optimal_threshold = thresholds[optimal_idx]\n",
    "print(\"Optimal Threshold:\", optimal_threshold)"
   ]
  },
  {
   "cell_type": "code",
   "execution_count": 127,
   "id": "17d52826-26dd-4d33-b5e5-f5e014193cdc",
   "metadata": {},
   "outputs": [],
   "source": [
    "new_threshold = 1.0\n",
    "y_pred_adjusted = (etree_prob >= new_threshold).astype(int)"
   ]
  },
  {
   "cell_type": "markdown",
   "id": "ad2fd9ee-f50a-4559-b88a-1d078e54c77c",
   "metadata": {},
   "source": [
    "### Confusion Matrics with the New Threshold\n",
    "Now we check the new false positive rate. \n"
   ]
  },
  {
   "cell_type": "code",
   "execution_count": 128,
   "id": "db732a91-ae4e-4d16-a661-5244e27d130e",
   "metadata": {},
   "outputs": [
    {
     "data": {
      "image/png": "[encoded data removed]",
      "text/plain": [
       "<Figure size 640x480 with 2 Axes>"
      ]
     },
     "metadata": {},
     "output_type": "display_data"
    }
   ],
   "source": [
    "sns.heatmap(confusion_matrix(y_test, y_pred_adjusted), cmap='OrRd', annot=True)\n",
    "plt.title('Confusion Matrix')\n",
    "plt.xlabel('Real Values')\n",
    "plt.ylabel('Predictions')\n",
    "plt.show()"
   ]
  },
  {
   "cell_type": "markdown",
   "id": "bb1c7300-7d49-4f64-afbd-f9eadeb56159",
   "metadata": {},
   "source": [
    "### Checking the Performance Metrics Again\n",
    "Here we can see that the precision was heavily increased."
   ]
  },
  {
   "cell_type": "code",
   "execution_count": 129,
   "id": "b8fd8454-928a-4a17-946c-6a510d90c98b",
   "metadata": {},
   "outputs": [
    {
     "data": {
      "text/plain": [
       "1.0"
      ]
     },
     "execution_count": 129,
     "metadata": {},
     "output_type": "execute_result"
    }
   ],
   "source": [
    "recall_score(y_test, y_pred_adjusted)"
   ]
  },
  {
   "cell_type": "code",
   "execution_count": 130,
   "id": "5fdcca88-07e7-4d86-a1ff-599b73a1dfc1",
   "metadata": {},
   "outputs": [
    {
     "data": {
      "text/plain": [
       "0.9879518072289156"
      ]
     },
     "execution_count": 130,
     "metadata": {},
     "output_type": "execute_result"
    }
   ],
   "source": [
    "accuracy_score(y_test, y_pred_adjusted)"
   ]
  },
  {
   "cell_type": "code",
   "execution_count": 131,
   "id": "25203a3f-4872-468e-ab46-bdab30ae38d7",
   "metadata": {},
   "outputs": [
    {
     "data": {
      "text/plain": [
       "0.972972972972973"
      ]
     },
     "execution_count": 131,
     "metadata": {},
     "output_type": "execute_result"
    }
   ],
   "source": [
    "precision_score(y_test, y_pred_adjusted)"
   ]
  },
  {
   "cell_type": "code",
   "execution_count": 132,
   "id": "6bc0023e-9c0f-49f4-85ad-908f2a8bd5a0",
   "metadata": {},
   "outputs": [
    {
     "data": {
      "text/plain": [
       "0.9863013698630138"
      ]
     },
     "execution_count": 132,
     "metadata": {},
     "output_type": "execute_result"
    }
   ],
   "source": [
    "f1_score(y_test, y_pred_adjusted)"
   ]
  },
  {
   "cell_type": "markdown",
   "id": "13375975-6ff4-464e-8803-434d4f8ffe46",
   "metadata": {},
   "source": [
    "## Feature Importance\n",
    "In the final part of this project, we check which features were more important to qualify a description as bigfoot-like or not."
   ]
  },
  {
   "cell_type": "code",
   "execution_count": 133,
   "id": "efbb1998-4076-4e58-baaa-0d20314986dc",
   "metadata": {},
   "outputs": [],
   "source": [
    "importances = etree.feature_importances_"
   ]
  },
  {
   "cell_type": "code",
   "execution_count": 134,
   "id": "3cd1d3a3-3083-4738-8f4b-5908238881d5",
   "metadata": {},
   "outputs": [],
   "source": [
    "feature_names = X_train.columns.values"
   ]
  },
  {
   "cell_type": "code",
   "execution_count": 135,
   "id": "eca6b03d-f3bc-4ed7-adb6-3fa61fc38a47",
   "metadata": {},
   "outputs": [],
   "source": [
    "feature_dataframe = pd.DataFrame({'Features': feature_names, \n",
    "                                  'Feature Importance': importances})"
   ]
  },
  {
   "cell_type": "code",
   "execution_count": 136,
   "id": "754a12f6-3175-487f-bcda-0cd0e316dbb5",
   "metadata": {},
   "outputs": [
    {
     "data": {
      "image/png": "[encoded data removed]",
      "text/plain": [
       "<Figure size 640x480 with 1 Axes>"
      ]
     },
     "metadata": {},
     "output_type": "display_data"
    }
   ],
   "source": [
    "feature_dataframe.sort_values(by='Feature Importance').plot.barh(x='Features')\n",
    "plt.show()"
   ]
  },
  {
   "cell_type": "markdown",
   "id": "e7b707b4-8449-4618-ab9b-6386228df78f",
   "metadata": {},
   "source": [
    "# Conclusion\n",
    "As we can see, the model did great! Now it can be used to predict bigfoot-like descriptions using new data and considering the performance metrics, it'll do a great job!"
   ]
  },
  {
   "cell_type": "code",
   "execution_count": null,
   "id": "66227063-a9cc-49ca-bc24-ca4625218b9c",
   "metadata": {},
   "outputs": [],
   "source": []
  },
  {
   "cell_type": "code",
   "execution_count": null,
   "id": "e3eef5f7-be2a-4643-9e20-9ccc73bc6275",
   "metadata": {},
   "outputs": [],
   "source": []
  },
  {
   "cell_type": "code",
   "execution_count": null,
   "id": "03982b7f-c615-4462-a62c-0395523b900d",
   "metadata": {},
   "outputs": [],
   "source": []
  },
  {
   "cell_type": "code",
   "execution_count": null,
   "id": "aab4f1ce-9632-4070-afcc-1e1f4bbc5d4e",
   "metadata": {},
   "outputs": [],
   "source": []
  },
  {
   "cell_type": "code",
   "execution_count": null,
   "id": "c6b026d0-8b30-41d7-9356-21499a3c3643",
   "metadata": {},
   "outputs": [],
   "source": []
  }
 ],
 "metadata": {
  "kernelspec": {
   "display_name": "Python 3 (ipykernel)",
   "language": "python",
   "name": "python3"
  },
  "language_info": {
   "codemirror_mode": {
    "name": "ipython",
    "version": 3
   },
   "file_extension": ".py",
   "mimetype": "text/x-python",
   "name": "python",
   "nbconvert_exporter": "python",
   "pygments_lexer": "ipython3",
   "version": "3.11.5"
  }
 },
 "nbformat": 4,
 "nbformat_minor": 5
}
